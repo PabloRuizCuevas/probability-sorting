{
 "cells": [
  {
   "cell_type": "code",
   "execution_count": 565,
   "metadata": {},
   "outputs": [],
   "source": [
    "from my_sort import InfinitesimalSort, NaiveInfinitesimalSort\n",
    "from sort_analyzer import index_from_tresholds\n",
    "import numpy as np\n",
    "import pandas as pd\n",
    "import ipytest \n",
    "ipytest.autoconfig()\n",
    "nan = np.nan"
   ]
  },
  {
   "cell_type": "code",
   "execution_count": 566,
   "metadata": {},
   "outputs": [
    {
     "data": {
      "text/plain": [
       "array([nan, nan, nan, nan])"
      ]
     },
     "execution_count": 566,
     "metadata": {},
     "output_type": "execute_result"
    }
   ],
   "source": []
  },
  {
   "cell_type": "code",
   "execution_count": 586,
   "metadata": {},
   "outputs": [],
   "source": [
    "def return_subarray(arr: np.array, n: float):\n",
    "    tmp = np.append(np.append([0], arr), 1)\n",
    "    mini = np.argwhere(tmp<n)[-1][0]\n",
    "    maxi = np.argwhere(tmp>n)[0][0]\n",
    "    return arr[mini:maxi-1]"
   ]
  },
  {
   "cell_type": "code",
   "execution_count": 585,
   "metadata": {},
   "outputs": [
    {
     "name": "stdout",
     "output_type": "stream",
     "text": [
      "\u001b[32m.\u001b[0m\u001b[32m                                                                                            [100%]\u001b[0m\n",
      "\u001b[32m\u001b[32m\u001b[1m1 passed\u001b[0m\u001b[32m in 0.02s\u001b[0m\u001b[0m\n"
     ]
    }
   ],
   "source": [
    "%%ipytest\n",
    "def test_func():\n",
    "    test = np.array([nan, nan, nan, nan, nan, nan])\n",
    "    assert np.array_equal(return_subarray(test, 0.3), test, equal_nan=True)\n",
    "    test = np.array([nan, nan, 0.2, nan, nan, nan])\n",
    "    resu = np.array([nan, nan, nan])\n",
    "    assert np.array_equal(return_subarray(test, 0.3), resu, equal_nan=True)\n",
    "    test = np.array([nan, nan, 0.2, nan, 0.4, nan])\n",
    "    resu = np.array([nan])\n",
    "    assert np.array_equal(return_subarray(test, 0.3), resu, equal_nan=True)\n",
    "    test = np.array([nan, nan, 0.2, nan, 0.4, nan, nan, 0.8])\n",
    "    resu = np.array([nan, nan])\n",
    "    assert np.array_equal(return_subarray(test, 0.5), resu, equal_nan=True)"
   ]
  },
  {
   "cell_type": "code",
   "execution_count": 587,
   "metadata": {},
   "outputs": [],
   "source": [
    "def return_subarray(arr: np.array, n: float):\n",
    "    tmp = np.append(np.append([0], arr), 1)\n",
    "    mini = np.argwhere(tmp<n)[-1][0]\n",
    "    maxi = np.argwhere(tmp>n)[0][0]\n",
    "    return arr[mini:maxi-1], tmp[mini], tmp[maxi]"
   ]
  },
  {
   "cell_type": "code",
   "execution_count": 592,
   "metadata": {},
   "outputs": [],
   "source": [
    "def best_quasi_sort(arr: np.array, thresholds = None):\n",
    "    ''' Uses thresholds to sort the array into slots, if slot occupied,'''\n",
    "    # if not isinstance(np.array, arr):\n",
    "    arr = np.array(arr)\n",
    "    n = len(arr)\n",
    "    slots = np.tile(nan,n)\n",
    "    if thresholds is None:\n",
    "        sorti = InfinitesimalSort()\n",
    "        thresholds = {i: sorti.thresholds(i)[1]  for i in range(n)}\n",
    "    \n",
    "    for ni in arr:\n",
    "        print()\n",
    "        print(ni)\n",
    "        print(slots)\n",
    "        sub, start, end = return_subarray(slots, ni)\n",
    "        print(sub, start, end)\n",
    "        if len(sub) == 0:\n",
    "            raise ValueError('No subarray found, not optimally sortable')\n",
    "        nip = (ni - start) / (end)      \n",
    "        idx = index_from_tresholds(thresholds[len(sub)], nip)\n",
    "        sub[idx] = ni\n",
    "        print(slots)\n",
    "    return slots\n"
   ]
  },
  {
   "cell_type": "code",
   "execution_count": 590,
   "metadata": {},
   "outputs": [
    {
     "data": {
      "text/plain": [
       "(array([nan, nan]), 0.4, 0.8)"
      ]
     },
     "execution_count": 590,
     "metadata": {},
     "output_type": "execute_result"
    }
   ],
   "source": [
    "return_subarray(np.array([nan, nan, 0.2, nan, 0.4, nan, nan, 0.8]), 0.5)"
   ]
  },
  {
   "cell_type": "code",
   "execution_count": 595,
   "metadata": {},
   "outputs": [
    {
     "name": "stdout",
     "output_type": "stream",
     "text": [
      "\n",
      "0.51716736\n",
      "[nan nan nan nan nan]\n",
      "[nan nan nan nan nan] 0.0 1.0\n",
      "[       nan        nan 0.51716736        nan        nan]\n",
      "\n",
      "0.4609964\n",
      "[       nan        nan 0.51716736        nan        nan]\n",
      "[nan nan] 0.0 0.51716736\n",
      "[       nan 0.4609964  0.51716736        nan        nan]\n",
      "\n",
      "0.04710595\n",
      "[       nan 0.4609964  0.51716736        nan        nan]\n",
      "[nan] 0.0 0.4609964\n",
      "[0.04710595 0.4609964  0.51716736        nan        nan]\n",
      "\n",
      "0.5313387\n",
      "[0.04710595 0.4609964  0.51716736        nan        nan]\n",
      "[nan nan] 0.51716736 1.0\n",
      "[0.04710595 0.4609964  0.51716736 0.5313387         nan]\n",
      "\n",
      "0.84448939\n",
      "[0.04710595 0.4609964  0.51716736 0.5313387         nan]\n",
      "[nan] 0.5313387 1.0\n",
      "[0.04710595 0.4609964  0.51716736 0.5313387  0.84448939]\n"
     ]
    },
    {
     "data": {
      "text/plain": [
       "array([0.04710595, 0.4609964 , 0.51716736, 0.5313387 , 0.84448939])"
      ]
     },
     "execution_count": 595,
     "metadata": {},
     "output_type": "execute_result"
    }
   ],
   "source": [
    "a = [0.51716736, 0.4609964,  0.04710595, 0.5313387,  0.84448939]\n",
    "best_quasi_sort(a, thresholds)"
   ]
  },
  {
   "cell_type": "code",
   "execution_count": 83,
   "metadata": {},
   "outputs": [
    {
     "name": "stdout",
     "output_type": "stream",
     "text": [
      "Sortable\n",
      "[0.51716736 0.4609964  0.04710595 0.5013387  0.04448939]\n"
     ]
    }
   ],
   "source": [
    "l = []\n",
    "trials = 500\n",
    "sorti = InfinitesimalSort()\n",
    "thresholds = {i: sorti.thresholds(i)[1]  for i in range(10)}\n",
    "for i in range(trials):\n",
    "    try:\n",
    "        l.append(best_quasi_sort(my_random[i], thresholds))\n",
    "        print('Sortable')\n",
    "        print(my_random[i])\n",
    "    except:\n",
    "        pass\n"
   ]
  },
  {
   "cell_type": "code",
   "execution_count": 84,
   "metadata": {},
   "outputs": [
    {
     "data": {
      "text/plain": [
       "[array([0.        , 0.04448939, 0.5013387 , 0.        , 0.        ])]"
      ]
     },
     "execution_count": 84,
     "metadata": {},
     "output_type": "execute_result"
    }
   ],
   "source": [
    "l"
   ]
  },
  {
   "cell_type": "code",
   "execution_count": null,
   "metadata": {},
   "outputs": [],
   "source": []
  }
 ],
 "metadata": {
  "kernelspec": {
   "display_name": ".venv",
   "language": "python",
   "name": "python3"
  },
  "language_info": {
   "codemirror_mode": {
    "name": "ipython",
    "version": 3
   },
   "file_extension": ".py",
   "mimetype": "text/x-python",
   "name": "python",
   "nbconvert_exporter": "python",
   "pygments_lexer": "ipython3",
   "version": "3.11.2"
  }
 },
 "nbformat": 4,
 "nbformat_minor": 2
}
