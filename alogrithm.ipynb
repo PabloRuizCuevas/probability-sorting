{
 "cells": [
  {
   "cell_type": "code",
   "execution_count": 3,
   "metadata": {},
   "outputs": [],
   "source": [
    "from src.my_sort import InfinitesimalSort, return_subarray, index_from_tresholds\n",
    "import numpy as np\n",
    "optimal = InfinitesimalSort()\n",
    "import ipytest\n",
    "ipytest.autoconfig()\n",
    "nan = np.nan"
   ]
  },
  {
   "cell_type": "code",
   "execution_count": 22,
   "metadata": {},
   "outputs": [],
   "source": [
    "def best_quasi_sort(arr: np.array, thresholds = None):\n",
    "    ''' Uses thresholds to sort the array into slots, if slot occupied,'''\n",
    "    # if not isinstance(np.array, arr):\n",
    "    arr = np.array(arr)\n",
    "    n = len(arr)\n",
    "    slots = np.tile(nan,n)\n",
    "    if thresholds is None:\n",
    "        sorti = InfinitesimalSort()\n",
    "        thresholds = {i: sorti.thresholds(i)[1]  for i in range(n)}\n",
    "    \n",
    "    for ni in arr:\n",
    "        print()\n",
    "        print(ni)\n",
    "        print(slots)\n",
    "        sub, start, end = return_subarray(slots, ni)\n",
    "        print(sub, start, end)\n",
    "        if len(sub) == 0:\n",
    "            raise ValueError('No subarray found, not optimally sortable')\n",
    "        nip = (ni-start)/(end-start)     \n",
    "        # print(\"thershold: \",thresholds[len(sub)], nip)\n",
    "        idx = index_from_tresholds(thresholds[len(sub)], nip)\n",
    "        sub[idx] = ni\n",
    "        print(slots)\n",
    "    return slots\n"
   ]
  },
  {
   "cell_type": "code",
   "execution_count": 23,
   "metadata": {},
   "outputs": [
    {
     "name": "stdout",
     "output_type": "stream",
     "text": [
      "\n",
      "0.1406\n",
      "[nan nan nan nan]\n",
      "[nan nan nan nan] 0.0 1.0\n"
     ]
    },
    {
     "ename": "KeyError",
     "evalue": "4",
     "output_type": "error",
     "traceback": [
      "\u001b[0;31m---------------------------------------------------------------------------\u001b[0m",
      "\u001b[0;31mKeyError\u001b[0m                                  Traceback (most recent call last)",
      "\u001b[1;32m/home/pablo/Documents/code/jupyter/alogrithm.ipynb Cell 3\u001b[0m line \u001b[0;36m2\n\u001b[1;32m      <a href='vscode-notebook-cell:/home/pablo/Documents/code/jupyter/alogrithm.ipynb#X13sZmlsZQ%3D%3D?line=0'>1</a>\u001b[0m a \u001b[39m=\u001b[39m np\u001b[39m.\u001b[39marray([\u001b[39m0.1406\u001b[39m, \u001b[39m0.4243\u001b[39m, \u001b[39m0.967\u001b[39m, \u001b[39m0.534\u001b[39m])\n\u001b[0;32m----> <a href='vscode-notebook-cell:/home/pablo/Documents/code/jupyter/alogrithm.ipynb#X13sZmlsZQ%3D%3D?line=1'>2</a>\u001b[0m best_quasi_sort(a)\n",
      "\u001b[1;32m/home/pablo/Documents/code/jupyter/alogrithm.ipynb Cell 3\u001b[0m line \u001b[0;36m2\n\u001b[1;32m     <a href='vscode-notebook-cell:/home/pablo/Documents/code/jupyter/alogrithm.ipynb#X13sZmlsZQ%3D%3D?line=18'>19</a>\u001b[0m nip \u001b[39m=\u001b[39m (ni\u001b[39m-\u001b[39mstart)\u001b[39m/\u001b[39m(end\u001b[39m-\u001b[39mstart)     \n\u001b[1;32m     <a href='vscode-notebook-cell:/home/pablo/Documents/code/jupyter/alogrithm.ipynb#X13sZmlsZQ%3D%3D?line=19'>20</a>\u001b[0m \u001b[39m# print(\"thershold: \",thresholds[len(sub)], nip)\u001b[39;00m\n\u001b[0;32m---> <a href='vscode-notebook-cell:/home/pablo/Documents/code/jupyter/alogrithm.ipynb#X13sZmlsZQ%3D%3D?line=20'>21</a>\u001b[0m idx \u001b[39m=\u001b[39m index_from_tresholds(thresholds[\u001b[39mlen\u001b[39;49m(sub)], nip)\n\u001b[1;32m     <a href='vscode-notebook-cell:/home/pablo/Documents/code/jupyter/alogrithm.ipynb#X13sZmlsZQ%3D%3D?line=21'>22</a>\u001b[0m sub[idx] \u001b[39m=\u001b[39m ni\n\u001b[1;32m     <a href='vscode-notebook-cell:/home/pablo/Documents/code/jupyter/alogrithm.ipynb#X13sZmlsZQ%3D%3D?line=22'>23</a>\u001b[0m \u001b[39mprint\u001b[39m(slots)\n",
      "\u001b[0;31mKeyError\u001b[0m: 4"
     ]
    }
   ],
   "source": [
    "a = np.array([0.1406, 0.4243, 0.967, 0.534])\n",
    "best_quasi_sort(a)"
   ]
  },
  {
   "cell_type": "code",
   "execution_count": 7,
   "metadata": {},
   "outputs": [
    {
     "name": "stdout",
     "output_type": "stream",
     "text": [
      "Sortable\n",
      "[0.11433702 0.53456103 0.66129611 0.69312266 0.91822177]\n",
      "Sortable\n",
      "[0.19513702 0.23331841 0.30793616 0.41538119 0.67537636]\n",
      "Sortable\n",
      "[0.02552507 0.20679271 0.25494702 0.64505085 0.67539488]\n",
      "Sortable\n",
      "[0.0506458  0.32372463 0.39309923 0.70841613 0.82063148]\n",
      "Sortable\n",
      "[0.0786254  0.25410321 0.42851061 0.48806581 0.67306825]\n",
      "Sortable\n",
      "[0.09227421 0.18283463 0.65054908 0.66176032 0.77802125]\n",
      "Sortable\n",
      "[0.01089187 0.3653648  0.52763723 0.73630928 0.98351881]\n",
      "Sortable\n",
      "[0.16348976 0.60105154 0.6567878  0.77825897 0.99103866]\n",
      "Sortable\n",
      "[7.17007012e-04 2.21772913e-01 7.12314525e-01 7.23965571e-01\n",
      " 9.86857384e-01]\n",
      "Sortable\n",
      "[0.07129022 0.37975689 0.64809605 0.67192375 0.76465317]\n",
      "0.221406029897821\n",
      "0.3333333333333333\n"
     ]
    }
   ],
   "source": [
    "\n",
    "l = []\n",
    "trials = 30\n",
    "n = 5\n",
    "sorti = InfinitesimalSort()\n",
    "thresholds = {i: sorti.thresholds(i)[1]  for i in range(10)}\n",
    "arrays = np.random.uniform(0,1,(trials, n))\n",
    "for i, random in enumerate(arrays):\n",
    "    try:\n",
    "        a = best_quasi_sort(random, thresholds)\n",
    "        print('Sortable')\n",
    "        l.append(a)\n",
    "        print(a)\n",
    "    except:\n",
    "        pass\n",
    "\n",
    "print(optimal.mP(5))\n",
    "print(len(l)/trials)"
   ]
  },
  {
   "cell_type": "code",
   "execution_count": 673,
   "metadata": {},
   "outputs": [
    {
     "name": "stdout",
     "output_type": "stream",
     "text": [
      "0.221406029897821\n",
      "0.22666666666666666\n"
     ]
    }
   ],
   "source": []
  },
  {
   "cell_type": "code",
   "execution_count": null,
   "metadata": {},
   "outputs": [],
   "source": []
  },
  {
   "cell_type": "code",
   "execution_count": null,
   "metadata": {},
   "outputs": [],
   "source": []
  },
  {
   "cell_type": "code",
   "execution_count": null,
   "metadata": {},
   "outputs": [],
   "source": []
  }
 ],
 "metadata": {
  "kernelspec": {
   "display_name": ".venv",
   "language": "python",
   "name": "python3"
  },
  "language_info": {
   "codemirror_mode": {
    "name": "ipython",
    "version": 3
   },
   "file_extension": ".py",
   "mimetype": "text/x-python",
   "name": "python",
   "nbconvert_exporter": "python",
   "pygments_lexer": "ipython3",
   "version": "3.11.2"
  }
 },
 "nbformat": 4,
 "nbformat_minor": 2
}
