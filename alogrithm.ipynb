{
 "cells": [
  {
   "cell_type": "code",
   "execution_count": 1,
   "metadata": {},
   "outputs": [],
   "source": [
    "from my_sort import InfinitesimalSort, NaiveInfinitesimalSort\n",
    "from sort_analyzer import index_from_tresholds\n",
    "import numpy as np\n"
   ]
  },
  {
   "cell_type": "code",
   "execution_count": 2,
   "metadata": {},
   "outputs": [],
   "source": [
    "inf = float('inf')"
   ]
  },
  {
   "cell_type": "code",
   "execution_count": 61,
   "metadata": {},
   "outputs": [],
   "source": [
    "test1 = [0,0,0  ,0  ,0,0  ,0  ,0  ,0]\n",
    "test2 = [0,0,0  ,0.4,0,0  ,0  ,0  ,0]\n",
    "test3 = [0,0,0.3,0  ,0,0  ,0.7,0.8,0]\n",
    "arrays = np.array([test1,test2,test3])"
   ]
  },
  {
   "cell_type": "code",
   "execution_count": 64,
   "metadata": {},
   "outputs": [
    {
     "data": {
      "text/plain": [
       "array([[ 0. ,  0. ,  0. ,  0. ,  0. ,  0. ,  0. ,  0. ,  0. ],\n",
       "       [ 0. ,  0. ,  0. ,  0.4,  0. ,  0. ,  0. ,  0. ,  0. ],\n",
       "       [ 0. ,  0. ,  0.3,  0. , 10. ,  0. ,  0.7,  0.8,  0. ]])"
      ]
     },
     "execution_count": 64,
     "metadata": {},
     "output_type": "execute_result"
    }
   ],
   "source": [
    "arrays"
   ]
  },
  {
   "cell_type": "code",
   "execution_count": 67,
   "metadata": {},
   "outputs": [],
   "source": []
  },
  {
   "cell_type": "code",
   "execution_count": 4,
   "metadata": {},
   "outputs": [],
   "source": [
    "trials = 10\n",
    "n = 5\n",
    "my_random = np.random.uniform(0, 1, [trials, n])"
   ]
  },
  {
   "cell_type": "code",
   "execution_count": 2,
   "metadata": {},
   "outputs": [],
   "source": [
    "def return_subarray(arr, n):\n",
    "    right_zeros = arr[arr < n]\n",
    "    arg_min = np.argmax(right_zeros)\n",
    "    return arr[arg_min:len(right_zeros)]"
   ]
  },
  {
   "cell_type": "code",
   "execution_count": 3,
   "metadata": {},
   "outputs": [],
   "source": [
    "def best_quasi_sort(arr: np.array, thresholds= None):\n",
    "    ''' Uses thresholds to sort the array into slots, if slot occupied,'''\n",
    "    # if not isinstance(np.array, arr):\n",
    "    arr = np.array(arr)\n",
    "    n = len(arr)\n",
    "    slots = np.zeros(n)\n",
    "    if thresholds is None:\n",
    "        sorti = InfinitesimalSort()\n",
    "        thresholds = {i: sorti.thresholds(n)[1]  for i in range(n)}\n",
    "    \n",
    "    for ni in arr:\n",
    "        sub = return_subarray(slots, ni)\n",
    "        start = sub[0]\n",
    "        end = sub[-1] if sub[-1] != 0 else 1\n",
    "        sub = sub[1:-1]\n",
    "        if len(sub) == 0:\n",
    "            raise ValueError('No subarray found, not optimally sortable')\n",
    "        nip = (ni - start) / (end)        \n",
    "        idx = index_from_tresholds(thresholds[len(sub)], nip)\n",
    "        sub[idx] = ni\n",
    "    return slots\n"
   ]
  },
  {
   "cell_type": "code",
   "execution_count": 8,
   "metadata": {},
   "outputs": [],
   "source": [
    "l = []\n",
    "trials = 100\n",
    "sorti = InfinitesimalSort()\n",
    "thresholds = {i: sorti.thresholds(n)[1]  for i in range(10)}\n",
    "for i in range(trials):\n",
    "    try:\n",
    "        l.append(best_quasi_sort(my_random[0], thresholds))\n",
    "        print('Sortable')\n",
    "    except:\n",
    "        # print('Not sortable')\n",
    "        pass\n"
   ]
  },
  {
   "cell_type": "code",
   "execution_count": 106,
   "metadata": {},
   "outputs": [
    {
     "data": {
      "text/plain": [
       "array([0.11350904, 0.93535543, 0.23661706])"
      ]
     },
     "execution_count": 106,
     "metadata": {},
     "output_type": "execute_result"
    }
   ],
   "source": []
  },
  {
   "cell_type": "code",
   "execution_count": null,
   "metadata": {},
   "outputs": [],
   "source": []
  }
 ],
 "metadata": {
  "kernelspec": {
   "display_name": ".venv",
   "language": "python",
   "name": "python3"
  },
  "language_info": {
   "codemirror_mode": {
    "name": "ipython",
    "version": 3
   },
   "file_extension": ".py",
   "mimetype": "text/x-python",
   "name": "python",
   "nbconvert_exporter": "python",
   "pygments_lexer": "ipython3",
   "version": "3.11.2"
  }
 },
 "nbformat": 4,
 "nbformat_minor": 2
}
