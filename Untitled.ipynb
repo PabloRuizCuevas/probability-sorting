{
 "cells": [
  {
   "cell_type": "code",
   "execution_count": 5,
   "id": "1315f682-ec35-47b8-be54-65f09fb462d9",
   "metadata": {
    "tags": []
   },
   "outputs": [
    {
     "name": "stdout",
     "output_type": "stream",
     "text": [
      "Using version \u001b[39;1m^1.0.2\u001b[39;22m for \u001b[36mpyv4l2\u001b[39m\n",
      "\n",
      "\u001b[34mUpdating dependencies\u001b[39m\n",
      "\u001b[2K\u001b[34mResolving dependencies...\u001b[39m \u001b[39;2m(0.7s)\u001b[39;22m\n",
      "\n",
      "\u001b[39;1mPackage operations\u001b[39;22m: \u001b[34m1\u001b[39m install, \u001b[34m0\u001b[39m updates, \u001b[34m0\u001b[39m removals\n",
      "\n",
      "  \u001b[34;1m•\u001b[39;22m \u001b[39mInstalling \u001b[39m\u001b[36mpyv4l2\u001b[39m\u001b[39m (\u001b[39m\u001b[39;1m1.0.2\u001b[39;22m\u001b[39m)\u001b[39m: \u001b[34mPending...\u001b[39m\n",
      "\u001b[1A\u001b[0J  \u001b[34;1m•\u001b[39;22m \u001b[39mInstalling \u001b[39m\u001b[36mpyv4l2\u001b[39m\u001b[39m (\u001b[39m\u001b[39;1m1.0.2\u001b[39;22m\u001b[39m)\u001b[39m: \u001b[34mPreparing...\u001b[39m\n",
      "\u001b[1A\u001b[0J  \u001b[31;1m•\u001b[39;22m \u001b[39mInstalling \u001b[39m\u001b[36mpyv4l2\u001b[39m\u001b[39m (\u001b[39m\u001b[31;1m1.0.2\u001b[39;22m\u001b[39m)\u001b[39m: \u001b[31;1mFailed\u001b[39;22m\n",
      "\n",
      "  \u001b[31;1mChefBuildError\u001b[39;22m\n",
      "\n",
      "  \u001b[39;1mBackend subprocess exited when trying to invoke build_wheel\n",
      "  \n",
      "  running bdist_wheel\n",
      "  running build\n",
      "  running build_py\n",
      "  creating build\n",
      "  creating build/lib.linux-x86_64-cpython-311\n",
      "  creating build/lib.linux-x86_64-cpython-311/pyv4l2\n",
      "  copying pyv4l2/__init__.py -> build/lib.linux-x86_64-cpython-311/pyv4l2\n",
      "  copying pyv4l2/exceptions.py -> build/lib.linux-x86_64-cpython-311/pyv4l2\n",
      "  running build_ext\n",
      "  building 'pyv4l2/frame' extension\n",
      "  creating build/temp.linux-x86_64-cpython-311\n",
      "  creating build/temp.linux-x86_64-cpython-311/pyv4l2\n",
      "  x86_64-linux-gnu-gcc -Wsign-compare -DNDEBUG -g -fwrapv -O2 -Wall -g -fstack-protector-strong -Wformat -Werror=format-security -g -fwrapv -O2 -fPIC -I/tmp/tmpt5zykqfk/.venv/include -I/usr/include/python3.11 -c pyv4l2/frame.c -o build/temp.linux-x86_64-cpython-311/pyv4l2/frame.o\n",
      "  pyv4l2/frame.c:60:12: fatal error: longintrepr.h: No such file or directory\n",
      "     60 |   #include \"longintrepr.h\"\n",
      "        |            ^~~~~~~~~~~~~~~\n",
      "  compilation terminated.\n",
      "  error: command '/usr/bin/x86_64-linux-gnu-gcc' failed with exit code 1\n",
      "  \u001b[39;22m\n",
      "\n",
      "  at \u001b[32m~/.local/share/pypoetry/venv/lib/python3.11/site-packages/poetry/installation/chef.py\u001b[39m:\u001b[39;1m147\u001b[39;22m in \u001b[36m_prepare\u001b[39m\n",
      "      \u001b[39;2m143\u001b[39;22m\u001b[39;2m│\u001b[39;22m \n",
      "      \u001b[39;2m144\u001b[39;22m\u001b[39;2m│\u001b[39;22m \u001b[39m                error \u001b[39m\u001b[39;2m= \u001b[39;22m\u001b[39mChefBuildError\u001b[39m\u001b[39;2m(\u001b[39;22m\u001b[33;1m\"\\n\\n\"\u001b[39;22m\u001b[39;2m.\u001b[39;22m\u001b[39mjoin\u001b[39m\u001b[39;2m(\u001b[39;22m\u001b[39mmessage_parts\u001b[39m\u001b[39;2m))\u001b[39;22m\n",
      "      \u001b[39;2m145\u001b[39;22m\u001b[39;2m│\u001b[39;22m \n",
      "      \u001b[39;2m146\u001b[39;22m\u001b[39;2m│\u001b[39;22m \u001b[39m            \u001b[39m\u001b[35;1mif \u001b[39;22m\u001b[39merror \u001b[39m\u001b[35;1mis not None\u001b[39;22m\u001b[39;2m:\u001b[39;22m\n",
      "    \u001b[31;1m→\u001b[39;22m \u001b[39;1m147\u001b[39;22m\u001b[39;2m│\u001b[39;22m \u001b[39m                \u001b[39m\u001b[35;1mraise \u001b[39;22m\u001b[39merror \u001b[39m\u001b[35;1mfrom None\u001b[39;22m\n",
      "      \u001b[39;2m148\u001b[39;22m\u001b[39;2m│\u001b[39;22m \n",
      "      \u001b[39;2m149\u001b[39;22m\u001b[39;2m│\u001b[39;22m \u001b[39m            \u001b[39m\u001b[35;1mreturn \u001b[39;22m\u001b[39mpath\u001b[39m\n",
      "      \u001b[39;2m150\u001b[39;22m\u001b[39;2m│\u001b[39;22m \n",
      "      \u001b[39;2m151\u001b[39;22m\u001b[39;2m│\u001b[39;22m \u001b[39m    \u001b[39m\u001b[35;1mdef \u001b[39;22m\u001b[39m_prepare_sdist\u001b[39m\u001b[39;2m(\u001b[39;22m\u001b[39;1mself\u001b[39;22m\u001b[39;2m, \u001b[39;22m\u001b[39marchive\u001b[39m\u001b[39;2m: \u001b[39;22m\u001b[39mPath\u001b[39m\u001b[39;2m, \u001b[39;22m\u001b[39mdestination\u001b[39m\u001b[39;2m: \u001b[39;22m\u001b[39mPath \u001b[39m\u001b[39;2m| \u001b[39;22m\u001b[35;1mNone \u001b[39;22m\u001b[39;2m= \u001b[39;22m\u001b[35;1mNone\u001b[39;22m\u001b[39;2m) -> \u001b[39;22m\u001b[39mPath\u001b[39m\u001b[39;2m:\u001b[39;22m\n",
      "\n",
      "\u001b[34mNote: This error originates from the build backend, and is likely not a problem with poetry but with pyv4l2 (1.0.2) not supporting PEP 517 builds. You can verify this by running 'pip wheel --use-pep517 \"pyv4l2 (==1.0.2)\"'.\u001b[39m\n",
      "\n"
     ]
    }
   ],
   "source": [
    "!poetry add pyv4l2"
   ]
  },
  {
   "cell_type": "code",
   "execution_count": 9,
   "id": "99323760-663e-4e98-b8f4-53821b9a084a",
   "metadata": {
    "tags": []
   },
   "outputs": [
    {
     "name": "stdout",
     "output_type": "stream",
     "text": [
      "Collecting pyv4l2\n",
      "  Using cached pyv4l2-1.0.2.tar.gz (54 kB)\n",
      "  Installing build dependencies ... \u001b[?25ldone\n",
      "\u001b[?25h  Getting requirements to build wheel ... \u001b[?25ldone\n",
      "\u001b[?25h  Installing backend dependencies ... \u001b[?25ldone\n",
      "\u001b[?25h  Preparing metadata (pyproject.toml) ... \u001b[?25ldone\n",
      "\u001b[?25hBuilding wheels for collected packages: pyv4l2\n",
      "  Building wheel for pyv4l2 (pyproject.toml) ... \u001b[?25lerror\n",
      "  \u001b[1;31merror\u001b[0m: \u001b[1msubprocess-exited-with-error\u001b[0m\n",
      "  \n",
      "  \u001b[31m×\u001b[0m \u001b[32mBuilding wheel for pyv4l2 \u001b[0m\u001b[1;32m(\u001b[0m\u001b[32mpyproject.toml\u001b[0m\u001b[1;32m)\u001b[0m did not run successfully.\n",
      "  \u001b[31m│\u001b[0m exit code: \u001b[1;36m1\u001b[0m\n",
      "  \u001b[31m╰─>\u001b[0m \u001b[31m[18 lines of output]\u001b[0m\n",
      "  \u001b[31m   \u001b[0m running bdist_wheel\n",
      "  \u001b[31m   \u001b[0m running build\n",
      "  \u001b[31m   \u001b[0m running build_py\n",
      "  \u001b[31m   \u001b[0m creating build\n",
      "  \u001b[31m   \u001b[0m creating build/lib.linux-x86_64-cpython-311\n",
      "  \u001b[31m   \u001b[0m creating build/lib.linux-x86_64-cpython-311/pyv4l2\n",
      "  \u001b[31m   \u001b[0m copying pyv4l2/__init__.py -> build/lib.linux-x86_64-cpython-311/pyv4l2\n",
      "  \u001b[31m   \u001b[0m copying pyv4l2/exceptions.py -> build/lib.linux-x86_64-cpython-311/pyv4l2\n",
      "  \u001b[31m   \u001b[0m running build_ext\n",
      "  \u001b[31m   \u001b[0m building 'pyv4l2/frame' extension\n",
      "  \u001b[31m   \u001b[0m creating build/temp.linux-x86_64-cpython-311\n",
      "  \u001b[31m   \u001b[0m creating build/temp.linux-x86_64-cpython-311/pyv4l2\n",
      "  \u001b[31m   \u001b[0m x86_64-linux-gnu-gcc -Wsign-compare -DNDEBUG -g -fwrapv -O2 -Wall -g -fstack-protector-strong -Wformat -Werror=format-security -g -fwrapv -O2 -fPIC -I/home/pablo/Documents/code/jupyter/.venv/include -I/usr/include/python3.11 -c pyv4l2/frame.c -o build/temp.linux-x86_64-cpython-311/pyv4l2/frame.o\n",
      "  \u001b[31m   \u001b[0m pyv4l2/frame.c:60:12: fatal error: longintrepr.h: No such file or directory\n",
      "  \u001b[31m   \u001b[0m    60 |   #include \"longintrepr.h\"\n",
      "  \u001b[31m   \u001b[0m       |            ^~~~~~~~~~~~~~~\n",
      "  \u001b[31m   \u001b[0m compilation terminated.\n",
      "  \u001b[31m   \u001b[0m error: command '/usr/bin/x86_64-linux-gnu-gcc' failed with exit code 1\n",
      "  \u001b[31m   \u001b[0m \u001b[31m[end of output]\u001b[0m\n",
      "  \n",
      "  \u001b[1;35mnote\u001b[0m: This error originates from a subprocess, and is likely not a problem with pip.\n",
      "\u001b[31m  ERROR: Failed building wheel for pyv4l2\u001b[0m\u001b[31m\n",
      "\u001b[0m\u001b[?25hFailed to build pyv4l2\n",
      "\u001b[31mERROR: Could not build wheels for pyv4l2, which is required to install pyproject.toml-based projects\u001b[0m\u001b[31m\n",
      "\u001b[0m"
     ]
    }
   ],
   "source": [
    "!pip3 install pyv4l2 --use-pep517"
   ]
  },
  {
   "cell_type": "code",
   "execution_count": 14,
   "id": "e7940d37-3203-4c25-9293-d2cda41c8180",
   "metadata": {
    "tags": []
   },
   "outputs": [
    {
     "name": "stdout",
     "output_type": "stream",
     "text": [
      "Collecting git+https://github.com/duanhongyi/pyv4l2\n",
      "  Cloning https://github.com/duanhongyi/pyv4l2 to /tmp/pip-req-build-469h7tjx\n",
      "  Running command git clone --filter=blob:none --quiet https://github.com/duanhongyi/pyv4l2 /tmp/pip-req-build-469h7tjx\n",
      "  Resolved https://github.com/duanhongyi/pyv4l2 to commit f12f0b3a14e44852f0a0d13ab561cbcae8b5e0c3\n",
      "  Installing build dependencies ... \u001b[?25ldone\n",
      "\u001b[?25h  Getting requirements to build wheel ... \u001b[?25ldone\n",
      "\u001b[?25h  Installing backend dependencies ... \u001b[?25ldone\n",
      "\u001b[?25h  Preparing metadata (pyproject.toml) ... \u001b[?25ldone\n",
      "\u001b[?25hBuilding wheels for collected packages: pyv4l2\n",
      "  Building wheel for pyv4l2 (pyproject.toml) ... \u001b[?25lerror\n",
      "  \u001b[1;31merror\u001b[0m: \u001b[1msubprocess-exited-with-error\u001b[0m\n",
      "  \n",
      "  \u001b[31m×\u001b[0m \u001b[32mBuilding wheel for pyv4l2 \u001b[0m\u001b[1;32m(\u001b[0m\u001b[32mpyproject.toml\u001b[0m\u001b[1;32m)\u001b[0m did not run successfully.\n",
      "  \u001b[31m│\u001b[0m exit code: \u001b[1;36m1\u001b[0m\n",
      "  \u001b[31m╰─>\u001b[0m \u001b[31m[16 lines of output]\u001b[0m\n",
      "  \u001b[31m   \u001b[0m running bdist_wheel\n",
      "  \u001b[31m   \u001b[0m running build\n",
      "  \u001b[31m   \u001b[0m running build_py\n",
      "  \u001b[31m   \u001b[0m creating build\n",
      "  \u001b[31m   \u001b[0m creating build/lib.linux-x86_64-cpython-311\n",
      "  \u001b[31m   \u001b[0m creating build/lib.linux-x86_64-cpython-311/pyv4l2\n",
      "  \u001b[31m   \u001b[0m copying pyv4l2/__init__.py -> build/lib.linux-x86_64-cpython-311/pyv4l2\n",
      "  \u001b[31m   \u001b[0m copying pyv4l2/exceptions.py -> build/lib.linux-x86_64-cpython-311/pyv4l2\n",
      "  \u001b[31m   \u001b[0m running build_ext\n",
      "  \u001b[31m   \u001b[0m building 'pyv4l2.frame' extension\n",
      "  \u001b[31m   \u001b[0m creating build/temp.linux-x86_64-cpython-311\n",
      "  \u001b[31m   \u001b[0m creating build/temp.linux-x86_64-cpython-311/pyv4l2\n",
      "  \u001b[31m   \u001b[0m x86_64-linux-gnu-gcc -Wsign-compare -DNDEBUG -g -fwrapv -O2 -Wall -g -fstack-protector-strong -Wformat -Werror=format-security -g -fwrapv -O2 -fPIC -I/home/pablo/Documents/code/jupyter/.venv/include -I/usr/include/python3.11 -c pyv4l2/frame.c -o build/temp.linux-x86_64-cpython-311/pyv4l2/frame.o\n",
      "  \u001b[31m   \u001b[0m cc1: fatal error: pyv4l2/frame.c: No such file or directory\n",
      "  \u001b[31m   \u001b[0m compilation terminated.\n",
      "  \u001b[31m   \u001b[0m error: command '/usr/bin/x86_64-linux-gnu-gcc' failed with exit code 1\n",
      "  \u001b[31m   \u001b[0m \u001b[31m[end of output]\u001b[0m\n",
      "  \n",
      "  \u001b[1;35mnote\u001b[0m: This error originates from a subprocess, and is likely not a problem with pip.\n",
      "\u001b[31m  ERROR: Failed building wheel for pyv4l2\u001b[0m\u001b[31m\n",
      "\u001b[0m\u001b[?25hFailed to build pyv4l2\n",
      "\u001b[31mERROR: Could not build wheels for pyv4l2, which is required to install pyproject.toml-based projects\u001b[0m\u001b[31m\n",
      "\u001b[0m"
     ]
    }
   ],
   "source": [
    "!pip install git+https://github.com/duanhongyi/pyv4l2 --use-pep517"
   ]
  },
  {
   "cell_type": "code",
   "execution_count": null,
   "id": "3076cb88-1062-4997-ad98-b0f5c087884b",
   "metadata": {},
   "outputs": [],
   "source": []
  },
  {
   "cell_type": "code",
   "execution_count": 15,
   "id": "4bf41d09-f890-49a8-98cb-e384c6597924",
   "metadata": {
    "tags": []
   },
   "outputs": [
    {
     "ename": "FileNotFoundError",
     "evalue": "[Errno 2] No such file or directory: 'v4l2-ctl'",
     "output_type": "error",
     "traceback": [
      "\u001b[0;31m---------------------------------------------------------------------------\u001b[0m",
      "\u001b[0;31mFileNotFoundError\u001b[0m                         Traceback (most recent call last)",
      "Cell \u001b[0;32mIn[15], line 4\u001b[0m\n\u001b[1;32m      1\u001b[0m \u001b[38;5;28;01mimport\u001b[39;00m \u001b[38;5;21;01msubprocess\u001b[39;00m\n\u001b[1;32m      3\u001b[0m \u001b[38;5;66;03m# List controls\u001b[39;00m\n\u001b[0;32m----> 4\u001b[0m result \u001b[38;5;241m=\u001b[39m \u001b[43msubprocess\u001b[49m\u001b[38;5;241;43m.\u001b[39;49m\u001b[43mrun\u001b[49m\u001b[43m(\u001b[49m\u001b[43m[\u001b[49m\u001b[38;5;124;43m'\u001b[39;49m\u001b[38;5;124;43mv4l2-ctl\u001b[39;49m\u001b[38;5;124;43m'\u001b[39;49m\u001b[43m,\u001b[49m\u001b[43m \u001b[49m\u001b[38;5;124;43m'\u001b[39;49m\u001b[38;5;124;43m-d\u001b[39;49m\u001b[38;5;124;43m'\u001b[39;49m\u001b[43m,\u001b[49m\u001b[43m \u001b[49m\u001b[38;5;124;43m'\u001b[39;49m\u001b[38;5;124;43m/dev/video0\u001b[39;49m\u001b[38;5;124;43m'\u001b[39;49m\u001b[43m,\u001b[49m\u001b[43m \u001b[49m\u001b[38;5;124;43m'\u001b[39;49m\u001b[38;5;124;43m--list-ctrls\u001b[39;49m\u001b[38;5;124;43m'\u001b[39;49m\u001b[43m]\u001b[49m\u001b[43m,\u001b[49m\u001b[43m \u001b[49m\u001b[43mcapture_output\u001b[49m\u001b[38;5;241;43m=\u001b[39;49m\u001b[38;5;28;43;01mTrue\u001b[39;49;00m\u001b[43m,\u001b[49m\u001b[43m \u001b[49m\u001b[43mtext\u001b[49m\u001b[38;5;241;43m=\u001b[39;49m\u001b[38;5;28;43;01mTrue\u001b[39;49;00m\u001b[43m)\u001b[49m\n\u001b[1;32m      5\u001b[0m \u001b[38;5;28mprint\u001b[39m(result\u001b[38;5;241m.\u001b[39mstdout)\n\u001b[1;32m      7\u001b[0m \u001b[38;5;66;03m# Set a control\u001b[39;00m\n",
      "File \u001b[0;32m/usr/lib/python3.11/subprocess.py:548\u001b[0m, in \u001b[0;36mrun\u001b[0;34m(input, capture_output, timeout, check, *popenargs, **kwargs)\u001b[0m\n\u001b[1;32m    545\u001b[0m     kwargs[\u001b[38;5;124m'\u001b[39m\u001b[38;5;124mstdout\u001b[39m\u001b[38;5;124m'\u001b[39m] \u001b[38;5;241m=\u001b[39m PIPE\n\u001b[1;32m    546\u001b[0m     kwargs[\u001b[38;5;124m'\u001b[39m\u001b[38;5;124mstderr\u001b[39m\u001b[38;5;124m'\u001b[39m] \u001b[38;5;241m=\u001b[39m PIPE\n\u001b[0;32m--> 548\u001b[0m \u001b[38;5;28;01mwith\u001b[39;00m \u001b[43mPopen\u001b[49m\u001b[43m(\u001b[49m\u001b[38;5;241;43m*\u001b[39;49m\u001b[43mpopenargs\u001b[49m\u001b[43m,\u001b[49m\u001b[43m \u001b[49m\u001b[38;5;241;43m*\u001b[39;49m\u001b[38;5;241;43m*\u001b[39;49m\u001b[43mkwargs\u001b[49m\u001b[43m)\u001b[49m \u001b[38;5;28;01mas\u001b[39;00m process:\n\u001b[1;32m    549\u001b[0m     \u001b[38;5;28;01mtry\u001b[39;00m:\n\u001b[1;32m    550\u001b[0m         stdout, stderr \u001b[38;5;241m=\u001b[39m process\u001b[38;5;241m.\u001b[39mcommunicate(\u001b[38;5;28minput\u001b[39m, timeout\u001b[38;5;241m=\u001b[39mtimeout)\n",
      "File \u001b[0;32m/usr/lib/python3.11/subprocess.py:1024\u001b[0m, in \u001b[0;36mPopen.__init__\u001b[0;34m(self, args, bufsize, executable, stdin, stdout, stderr, preexec_fn, close_fds, shell, cwd, env, universal_newlines, startupinfo, creationflags, restore_signals, start_new_session, pass_fds, user, group, extra_groups, encoding, errors, text, umask, pipesize, process_group)\u001b[0m\n\u001b[1;32m   1020\u001b[0m         \u001b[38;5;28;01mif\u001b[39;00m \u001b[38;5;28mself\u001b[39m\u001b[38;5;241m.\u001b[39mtext_mode:\n\u001b[1;32m   1021\u001b[0m             \u001b[38;5;28mself\u001b[39m\u001b[38;5;241m.\u001b[39mstderr \u001b[38;5;241m=\u001b[39m io\u001b[38;5;241m.\u001b[39mTextIOWrapper(\u001b[38;5;28mself\u001b[39m\u001b[38;5;241m.\u001b[39mstderr,\n\u001b[1;32m   1022\u001b[0m                     encoding\u001b[38;5;241m=\u001b[39mencoding, errors\u001b[38;5;241m=\u001b[39merrors)\n\u001b[0;32m-> 1024\u001b[0m     \u001b[38;5;28;43mself\u001b[39;49m\u001b[38;5;241;43m.\u001b[39;49m\u001b[43m_execute_child\u001b[49m\u001b[43m(\u001b[49m\u001b[43margs\u001b[49m\u001b[43m,\u001b[49m\u001b[43m \u001b[49m\u001b[43mexecutable\u001b[49m\u001b[43m,\u001b[49m\u001b[43m \u001b[49m\u001b[43mpreexec_fn\u001b[49m\u001b[43m,\u001b[49m\u001b[43m \u001b[49m\u001b[43mclose_fds\u001b[49m\u001b[43m,\u001b[49m\n\u001b[1;32m   1025\u001b[0m \u001b[43m                        \u001b[49m\u001b[43mpass_fds\u001b[49m\u001b[43m,\u001b[49m\u001b[43m \u001b[49m\u001b[43mcwd\u001b[49m\u001b[43m,\u001b[49m\u001b[43m \u001b[49m\u001b[43menv\u001b[49m\u001b[43m,\u001b[49m\n\u001b[1;32m   1026\u001b[0m \u001b[43m                        \u001b[49m\u001b[43mstartupinfo\u001b[49m\u001b[43m,\u001b[49m\u001b[43m \u001b[49m\u001b[43mcreationflags\u001b[49m\u001b[43m,\u001b[49m\u001b[43m \u001b[49m\u001b[43mshell\u001b[49m\u001b[43m,\u001b[49m\n\u001b[1;32m   1027\u001b[0m \u001b[43m                        \u001b[49m\u001b[43mp2cread\u001b[49m\u001b[43m,\u001b[49m\u001b[43m \u001b[49m\u001b[43mp2cwrite\u001b[49m\u001b[43m,\u001b[49m\n\u001b[1;32m   1028\u001b[0m \u001b[43m                        \u001b[49m\u001b[43mc2pread\u001b[49m\u001b[43m,\u001b[49m\u001b[43m \u001b[49m\u001b[43mc2pwrite\u001b[49m\u001b[43m,\u001b[49m\n\u001b[1;32m   1029\u001b[0m \u001b[43m                        \u001b[49m\u001b[43merrread\u001b[49m\u001b[43m,\u001b[49m\u001b[43m \u001b[49m\u001b[43merrwrite\u001b[49m\u001b[43m,\u001b[49m\n\u001b[1;32m   1030\u001b[0m \u001b[43m                        \u001b[49m\u001b[43mrestore_signals\u001b[49m\u001b[43m,\u001b[49m\n\u001b[1;32m   1031\u001b[0m \u001b[43m                        \u001b[49m\u001b[43mgid\u001b[49m\u001b[43m,\u001b[49m\u001b[43m \u001b[49m\u001b[43mgids\u001b[49m\u001b[43m,\u001b[49m\u001b[43m \u001b[49m\u001b[43muid\u001b[49m\u001b[43m,\u001b[49m\u001b[43m \u001b[49m\u001b[43mumask\u001b[49m\u001b[43m,\u001b[49m\n\u001b[1;32m   1032\u001b[0m \u001b[43m                        \u001b[49m\u001b[43mstart_new_session\u001b[49m\u001b[43m,\u001b[49m\u001b[43m \u001b[49m\u001b[43mprocess_group\u001b[49m\u001b[43m)\u001b[49m\n\u001b[1;32m   1033\u001b[0m \u001b[38;5;28;01mexcept\u001b[39;00m:\n\u001b[1;32m   1034\u001b[0m     \u001b[38;5;66;03m# Cleanup if the child failed starting.\u001b[39;00m\n\u001b[1;32m   1035\u001b[0m     \u001b[38;5;28;01mfor\u001b[39;00m f \u001b[38;5;129;01min\u001b[39;00m \u001b[38;5;28mfilter\u001b[39m(\u001b[38;5;28;01mNone\u001b[39;00m, (\u001b[38;5;28mself\u001b[39m\u001b[38;5;241m.\u001b[39mstdin, \u001b[38;5;28mself\u001b[39m\u001b[38;5;241m.\u001b[39mstdout, \u001b[38;5;28mself\u001b[39m\u001b[38;5;241m.\u001b[39mstderr)):\n",
      "File \u001b[0;32m/usr/lib/python3.11/subprocess.py:1901\u001b[0m, in \u001b[0;36mPopen._execute_child\u001b[0;34m(self, args, executable, preexec_fn, close_fds, pass_fds, cwd, env, startupinfo, creationflags, shell, p2cread, p2cwrite, c2pread, c2pwrite, errread, errwrite, restore_signals, gid, gids, uid, umask, start_new_session, process_group)\u001b[0m\n\u001b[1;32m   1899\u001b[0m     \u001b[38;5;28;01mif\u001b[39;00m errno_num \u001b[38;5;241m!=\u001b[39m \u001b[38;5;241m0\u001b[39m:\n\u001b[1;32m   1900\u001b[0m         err_msg \u001b[38;5;241m=\u001b[39m os\u001b[38;5;241m.\u001b[39mstrerror(errno_num)\n\u001b[0;32m-> 1901\u001b[0m     \u001b[38;5;28;01mraise\u001b[39;00m child_exception_type(errno_num, err_msg, err_filename)\n\u001b[1;32m   1902\u001b[0m \u001b[38;5;28;01mraise\u001b[39;00m child_exception_type(err_msg)\n",
      "\u001b[0;31mFileNotFoundError\u001b[0m: [Errno 2] No such file or directory: 'v4l2-ctl'"
     ]
    }
   ],
   "source": [
    "import subprocess\n",
    "\n",
    "# List controls\n",
    "result = subprocess.run(['v4l2-ctl', '-d', '/dev/video0', '--list-ctrls'], capture_output=True, text=True)\n",
    "print(result.stdout)\n",
    "\n",
    "# Set a control\n",
    "control_name = \"control_name\"  # replace with the correct control name\n",
    "value = \"desired_value\"        # replace with the desired value\n",
    "subprocess.run(['v4l2-ctl', '-d', '/dev/video0', '--set-ctrl', f'{control_name}={value}'])"
   ]
  },
  {
   "cell_type": "code",
   "execution_count": null,
   "id": "f5b5b932-5a7d-4e58-9f15-da7ebbb3791d",
   "metadata": {},
   "outputs": [],
   "source": []
  }
 ],
 "metadata": {
  "kernelspec": {
   "display_name": "Python 3 (ipykernel)",
   "language": "python",
   "name": "python3"
  },
  "language_info": {
   "codemirror_mode": {
    "name": "ipython",
    "version": 3
   },
   "file_extension": ".py",
   "mimetype": "text/x-python",
   "name": "python",
   "nbconvert_exporter": "python",
   "pygments_lexer": "ipython3",
   "version": "3.11.2"
  }
 },
 "nbformat": 4,
 "nbformat_minor": 5
}
