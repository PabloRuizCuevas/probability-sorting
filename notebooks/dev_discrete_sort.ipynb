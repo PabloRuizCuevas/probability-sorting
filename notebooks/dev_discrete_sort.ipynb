{
 "cells": [
  {
   "cell_type": "code",
   "execution_count": 141,
   "metadata": {},
   "outputs": [],
   "source": [
    "from src.my_sort import p_distributions, thresholds, plot_strategy_domains, plot_partition_tree, mP\n",
    "from sympy.stats import Binomial, density\n",
    "from sympy import Symbol, integrate, solve, Interval, Rational\n",
    "from math import comb\n",
    "import numpy as np\n",
    "from matplotlib import pyplot as plt\n",
    "from sympy import lambdify, Symbol, Interval\n",
    "\n",
    "sys.set_int_max_str_digits(0)\n",
    "n1 = Symbol(\"n1\", domain=Interval(0, 1))"
   ]
  },
  {
   "cell_type": "code",
   "execution_count": 110,
   "metadata": {},
   "outputs": [],
   "source": [
    "class DiscreteSort(metaclass=LoggingMeta):\n",
    "\n",
    "    def __init__(self, rational=False):\n",
    "        self.rational = rational\n",
    "\n",
    "    @staticmethod\n",
    "    def hypergeometric(n, k, maxi): \n",
    "        # population, population considerada valida , turnos left, aciertos requeridos\n",
    "        return density(Hypergeometric('H', maxi, maxi-n1, n))(k)\n",
    "\n",
    "    @lru_cache # cache with self = bad idea death\n",
    "    def mP(self, n, maxi):\n",
    "        if n < 2 or n >= maxi:\n",
    "            return 1\n",
    "        B, I = self.thresholds(n, maxi) \n",
    "        return simplify(sum([Sum(B[i], (n1, I[i]+1,I[i+1])) for i in range(n)])/maxi)\n",
    "\n",
    "    @lru_cache\n",
    "    def p_distributions(self, n, maxi):\n",
    "        # n is the number of boxes\n",
    "        result = [self.hypergeometric(n-1, i, maxi) * self.mP(n-1-i, maxi-n1) * self.mP(i, n1)-1 for i in range(n)]\n",
    "        if self.rational: # not sure if needed anymore\n",
    "            return result\n",
    "        return [simplify(r).evalf() for r in result]\n",
    "\n",
    "    @lru_cache\n",
    "    def thresholds(self, n, maxi):\n",
    "        B = self.p_distributions(n, maxi)\n",
    "        I = [0]\n",
    "        for i in range(0, n-1):\n",
    "            #  should be reduce_inequalities with constrains but do not work well\n",
    "            sol = solve(B[i+1]-B[i], n1, rational=self.rational)\n",
    "            sol = sol[1] if sol[0] == 0 else sol[0]\n",
    "            sol = int(sol)\n",
    "            I.append(sol)\n",
    "        I.append(maxi)\n",
    "       \n",
    "        return B, I"
   ]
  },
  {
   "cell_type": "code",
   "execution_count": 111,
   "metadata": {},
   "outputs": [
    {
     "name": "stdout",
     "output_type": "stream",
     "text": [
      "Calling method __init__ with args () and kwargs {'rational': False}\n"
     ]
    }
   ],
   "source": [
    "sorti = DiscreteSort(rational=False)\n"
   ]
  },
  {
   "cell_type": "code",
   "execution_count": 87,
   "metadata": {},
   "outputs": [],
   "source": [
    "# caso 2\n",
    "# {1}{0}\n",
    "# {0}{1}"
   ]
  },
  {
   "cell_type": "code",
   "execution_count": 26,
   "metadata": {},
   "outputs": [],
   "source": [
    "def hypergeometric(n, k, maxi): \n",
    "    return density(Hypergeometric('H', maxi, k, maxi-n1))(n1)\n",
    "\n",
    "def k_dist(n, k, maxi):\n",
    "    assert k <= n, 'k must be less or equal than n'\n",
    "    return density(Hypergeometric('H', maxi, k, n))(n1)"
   ]
  },
  {
   "cell_type": "code",
   "execution_count": 34,
   "metadata": {},
   "outputs": [
    {
     "data": {
      "text/latex": [
       "$\\displaystyle \\frac{{\\binom{0}{n_{1}}} {\\binom{1000}{1 - n_{1}}}}{1000}$"
      ],
      "text/plain": [
       "binomial(0, n1)*binomial(1000, 1 - n1)/1000"
      ]
     },
     "execution_count": 34,
     "metadata": {},
     "output_type": "execute_result"
    }
   ],
   "source": [
    "k_dist(1,0, 1000)"
   ]
  },
  {
   "cell_type": "code",
   "execution_count": 35,
   "metadata": {},
   "outputs": [
    {
     "data": {
      "text/latex": [
       "$\\displaystyle \\frac{{\\binom{1}{n_{1}}} {\\binom{999}{1 - n_{1}}}}{1000}$"
      ],
      "text/plain": [
       "binomial(1, n1)*binomial(999, 1 - n1)/1000"
      ]
     },
     "execution_count": 35,
     "metadata": {},
     "output_type": "execute_result"
    }
   ],
   "source": [
    "k_dist(1,1, 1000)"
   ]
  },
  {
   "cell_type": "code",
   "execution_count": 32,
   "metadata": {},
   "outputs": [
    {
     "data": {
      "text/latex": [
       "$\\displaystyle 0.1875$"
      ],
      "text/plain": [
       "0.187500000000000"
      ]
     },
     "execution_count": 32,
     "metadata": {},
     "output_type": "execute_result"
    }
   ],
   "source": [
    "b=2 # buckets\n",
    "max_n = 4\n",
    "\n",
    "P1L = hypergeometric(b-1, 1, max_n) \n",
    "P1R = hypergeometric(b-1, 0, max_n)\n",
    "P1 = (Sum(P1L, (n1, 1, max_n//2)) + Sum(P1R, (n1, max_n//2+1, max_n)))/max_n\n",
    "P1.evalf()"
   ]
  },
  {
   "cell_type": "code",
   "execution_count": 18,
   "metadata": {},
   "outputs": [
    {
     "data": {
      "text/latex": [
       "$\\displaystyle \\frac{\\sum_{n_{1}=1}^{2} \\frac{{\\binom{0}{n_{1}}} {\\binom{4}{1 - n_{1}}}}{4}}{4} + \\frac{\\sum_{n_{1}=3}^{4} \\frac{{\\binom{1}{n_{1}}} {\\binom{3}{1 - n_{1}}}}{4}}{4}$"
      ],
      "text/plain": [
       "Sum(binomial(0, n1)*binomial(4, 1 - n1)/4, (n1, 1, 2))/4 + Sum(binomial(1, n1)*binomial(3, 1 - n1)/4, (n1, 3, 4))/4"
      ]
     },
     "execution_count": 18,
     "metadata": {},
     "output_type": "execute_result"
    }
   ],
   "source": [
    "P1"
   ]
  },
  {
   "cell_type": "code",
   "execution_count": 144,
   "metadata": {},
   "outputs": [
    {
     "data": {
      "text/plain": [
       "{0: 1/15, 1: 7/15, 2: 7/15}"
      ]
     },
     "execution_count": 144,
     "metadata": {},
     "output_type": "execute_result"
    }
   ],
   "source": [
    "density(Hypergeometric('H', 10, 7, 2)).dict"
   ]
  },
  {
   "cell_type": "code",
   "execution_count": 142,
   "metadata": {},
   "outputs": [
    {
     "data": {
      "text/plain": [
       "0.4666666666666667"
      ]
     },
     "execution_count": 142,
     "metadata": {},
     "output_type": "execute_result"
    }
   ],
   "source": [
    "float(density(Hypergeometric('H', 10, 7, 2)).dict[2])"
   ]
  },
  {
   "cell_type": "code",
   "execution_count": 143,
   "metadata": {},
   "outputs": [
    {
     "data": {
      "text/plain": [
       "0.4666666666666667"
      ]
     },
     "execution_count": 143,
     "metadata": {},
     "output_type": "execute_result"
    }
   ],
   "source": [
    "float(density(Hypergeometric('H', 10, 7, 2)).dict[1])"
   ]
  }
 ],
 "metadata": {
  "kernelspec": {
   "display_name": ".venv",
   "language": "python",
   "name": "python3"
  },
  "language_info": {
   "codemirror_mode": {
    "name": "ipython",
    "version": 3
   },
   "file_extension": ".py",
   "mimetype": "text/x-python",
   "name": "python",
   "nbconvert_exporter": "python",
   "pygments_lexer": "ipython3",
   "version": "3.11.2"
  }
 },
 "nbformat": 4,
 "nbformat_minor": 2
}
