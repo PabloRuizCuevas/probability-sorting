{
 "cells": [
  {
   "cell_type": "code",
   "execution_count": 8,
   "metadata": {},
   "outputs": [
    {
     "name": "stdout",
     "output_type": "stream",
     "text": [
      "/home/pablo/probability-sorting\n"
     ]
    },
    {
     "name": "stderr",
     "output_type": "stream",
     "text": [
      "/home/pablo/probability-sorting/.venv/lib/python3.11/site-packages/IPython/core/magics/osm.py:417: UserWarning: This is now an optional IPython functionality, setting dhist requires you to install the `pickleshare` library.\n",
      "  self.shell.db['dhist'] = compress_dhist(dhist)[-100:]\n"
     ]
    }
   ],
   "source": [
    "cd '/home/pablo/probability-sorting'"
   ]
  },
  {
   "cell_type": "code",
   "execution_count": 285,
   "metadata": {},
   "outputs": [],
   "source": [
    "from onsort.discrete_prob import pnb, P, hyp, all_dist,dist\n",
    "from onsort.discrete_plots import plot_p_dist, P_print\n",
    "from sympy import Sum, Symbol, plot, solve, Float, Function, lambdify,floor, maximum, Piecewise\n",
    "from matplotlib import pyplot as plt\n",
    "import numpy as np\n",
    "from sympy.abc import i, k, m, n, x\n",
    "from sympy import Lambda, Interval , Expr , Rational, Integral, S, solveset, integrate, plot, summation\n",
    "from sympy.stats import Binomial, density\n",
    "from functools import lru_cache\n",
    "from math import comb"
   ]
  },
  {
   "cell_type": "code",
   "execution_count": 21,
   "metadata": {},
   "outputs": [],
   "source": [
    "buckets = 2\n",
    "items = 3"
   ]
  },
  {
   "cell_type": "code",
   "execution_count": 303,
   "metadata": {},
   "outputs": [],
   "source": [
    "n1 = Symbol(\"n1\", positive=True)\n",
    "\n",
    "@lru_cache\n",
    "def dist(buckets: int, b:int, n: int) -> list[Expr]:\n",
    "    \"\"\" buckets \"\"\" \n",
    "    return binomial(buckets - 1, b, n) * P(buckets - 1 - b) * P(b)\n",
    "\n",
    "@staticmethod\n",
    "def binomial(buckets: int, b: int, n) -> Expr: \n",
    "    return density(Binomial(\"X\", buckets, n))(b)\n",
    "\n",
    "def opt_o(buckets, b):\n",
    "    # ok but not the best\n",
    "    buckets -=1\n",
    "\n",
    "    if b == 0:\n",
    "        return solveset(binomial(buckets, 0, n1) > binomial(buckets,1, n1), domain=Interval(0, 1)) \n",
    "    else:\n",
    "        i1 = (binomial(buckets, b-1, n1) > binomial(buckets,b, n1)) \n",
    "        i2 = (binomial(buckets, b, n1) > binomial(buckets, b+1, n1))\n",
    "        return Interval(solveset(i1, domain=Interval(0, 1)).end, solveset(i2, domain=Interval(0, 1)).end)\n",
    "    \n",
    "@lru_cache\n",
    "def opt(buckets: int, b:int) -> Interval:\n",
    "    \"\"\" Optimal threshold of n buckets we get it by placing on b and check with buckets-1\"\"\"\n",
    "    # print(\"opt\", buckets, b)\n",
    "    if b == 0:\n",
    "        return solveset(dist(buckets, 0, n1) > dist(buckets,1, n1), domain=Interval(0, 1)) \n",
    "    if b==buckets-1:\n",
    "        return solveset(dist(buckets, buckets-2, n1) < dist(buckets, buckets-1, n1), domain=Interval(0, 1)) \n",
    "    else:\n",
    "        i1 = (dist(buckets, b-1, n1) > dist(buckets, b, n1)) \n",
    "        i2 = (dist(buckets, b, n1) > dist(buckets, b+1, n1))\n",
    "        return Interval(solveset(i1, domain=Interval(0, 1)).end, solveset(i2, domain=Interval(0, 1)).end)\n",
    "    \n",
    "@lru_cache\n",
    "def P(buckets: int = 1) -> float | Rational:\n",
    "    # print(\"AQUI\", buckets)\n",
    "    # if n> 9  better using rational = False, otherwise it takes ages\n",
    "    # as the integrals are symbolic and makes gdc of very large fractions\n",
    "    # further optimization can be achieved by using symmetry, as the integral\n",
    "    # evaluate symetrically in the array, same for thresholds\n",
    "    \n",
    "    if buckets < 2 :\n",
    "        return S(1)\n",
    "    else:\n",
    "        return sum(Integral(dist(buckets, b, n1), (n1, opt(buckets, b))) for b in range(buckets))\n",
    "    # b = Symbol(\"b\", integer=True, positive=True)\n",
    "    # return Piecewise((1, buckets < 2), \n",
    "    #                 (summation(Integral(dist(buckets, b, n1), (n1, opt(buckets, b))), (b,0,buckets)), buckets>=2))\n",
    "    "
   ]
  },
  {
   "cell_type": "code",
   "execution_count": 305,
   "metadata": {},
   "outputs": [],
   "source": [
    "P(3)"
   ]
  },
  {
   "cell_type": "code",
   "execution_count": 275,
   "metadata": {},
   "outputs": [
    {
     "data": {
      "text/latex": [
       "$\\displaystyle \\int\\limits_{\\frac{1}{2}}^{1} n_{1}\\, dn_{1} + \\int\\limits_{0}^{\\frac{1}{2}} \\left(1 - n_{1}\\right)\\, dn_{1}$"
      ],
      "text/plain": [
       "Integral(n1, (n1, 1/2, 1)) + Integral(1 - n1, (n1, 0, 1/2))"
      ]
     },
     "execution_count": 275,
     "metadata": {},
     "output_type": "execute_result"
    }
   ],
   "source": [
    "P(2)"
   ]
  },
  {
   "cell_type": "code",
   "execution_count": 250,
   "metadata": {},
   "outputs": [],
   "source": [
    "buckets = Symbol('buckets', integer= True, positive= True)"
   ]
  },
  {
   "cell_type": "code",
   "execution_count": 251,
   "metadata": {},
   "outputs": [
    {
     "ename": "TypeError",
     "evalue": "cannot determine truth value of Relational",
     "output_type": "error",
     "traceback": [
      "\u001b[0;31m---------------------------------------------------------------------------\u001b[0m",
      "\u001b[0;31mTypeError\u001b[0m                                 Traceback (most recent call last)",
      "Cell \u001b[0;32mIn[251], line 1\u001b[0m\n\u001b[0;32m----> 1\u001b[0m \u001b[43mP\u001b[49m\u001b[43m(\u001b[49m\u001b[43mbuckets\u001b[49m\u001b[43m)\u001b[49m\n",
      "Cell \u001b[0;32mIn[248], line 42\u001b[0m, in \u001b[0;36mP\u001b[0;34m(buckets)\u001b[0m\n\u001b[1;32m     35\u001b[0m \u001b[38;5;129m@lru_cache\u001b[39m\n\u001b[1;32m     36\u001b[0m \u001b[38;5;28;01mdef\u001b[39;00m \u001b[38;5;21mP\u001b[39m(buckets: \u001b[38;5;28mint\u001b[39m \u001b[38;5;241m=\u001b[39m \u001b[38;5;241m1\u001b[39m) \u001b[38;5;241m-\u001b[39m\u001b[38;5;241m>\u001b[39m \u001b[38;5;28mfloat\u001b[39m \u001b[38;5;241m|\u001b[39m Rational:\n\u001b[1;32m     37\u001b[0m     \u001b[38;5;66;03m# print(\"AQUI\", buckets)\u001b[39;00m\n\u001b[0;32m   (...)\u001b[0m\n\u001b[1;32m     40\u001b[0m     \u001b[38;5;66;03m# further optimization can be achieved by using symmetry, as the integral\u001b[39;00m\n\u001b[1;32m     41\u001b[0m     \u001b[38;5;66;03m# evaluate symetrically in the array, same for thresholds\u001b[39;00m\n\u001b[0;32m---> 42\u001b[0m     \u001b[38;5;28;01mif\u001b[39;00m buckets \u001b[38;5;241m<\u001b[39m \u001b[38;5;241m2\u001b[39m :\n\u001b[1;32m     43\u001b[0m         \u001b[38;5;28;01mreturn\u001b[39;00m S(\u001b[38;5;241m1\u001b[39m)\n\u001b[1;32m     44\u001b[0m     \u001b[38;5;28;01melse\u001b[39;00m:\n\u001b[1;32m     45\u001b[0m         \u001b[38;5;66;03m#b = Symbol(\"b\", integer=True, positive=True)\u001b[39;00m\n\u001b[1;32m     46\u001b[0m         \u001b[38;5;66;03m#return Sum(Integral(dist(buckets, b, n1), (n1, opt(buckets, b))), (b,0,buckets))\u001b[39;00m\n",
      "File \u001b[0;32m~/probability-sorting/.venv/lib/python3.11/site-packages/sympy/core/relational.py:510\u001b[0m, in \u001b[0;36mRelational.__bool__\u001b[0;34m(self)\u001b[0m\n\u001b[1;32m    509\u001b[0m \u001b[38;5;28;01mdef\u001b[39;00m \u001b[38;5;21m__bool__\u001b[39m(\u001b[38;5;28mself\u001b[39m):\n\u001b[0;32m--> 510\u001b[0m     \u001b[38;5;28;01mraise\u001b[39;00m \u001b[38;5;167;01mTypeError\u001b[39;00m(\u001b[38;5;124m\"\u001b[39m\u001b[38;5;124mcannot determine truth value of Relational\u001b[39m\u001b[38;5;124m\"\u001b[39m)\n",
      "\u001b[0;31mTypeError\u001b[0m: cannot determine truth value of Relational"
     ]
    }
   ],
   "source": [
    "P(buckets)"
   ]
  },
  {
   "cell_type": "code",
   "execution_count": 239,
   "metadata": {},
   "outputs": [
    {
     "data": {
      "text/latex": [
       "$\\displaystyle \\int\\limits_{\\frac{1}{2}}^{1} n_{1}\\, dn_{1} + \\int\\limits_{0}^{\\frac{1}{2}} \\left(1 - n_{1}\\right)\\, dn_{1}$"
      ],
      "text/plain": [
       "Integral(n1, (n1, 1/2, 1)) + Integral(1 - n1, (n1, 0, 1/2))"
      ]
     },
     "execution_count": 239,
     "metadata": {},
     "output_type": "execute_result"
    }
   ],
   "source": [
    "P(2)"
   ]
  },
  {
   "cell_type": "code",
   "execution_count": null,
   "metadata": {},
   "outputs": [],
   "source": []
  },
  {
   "cell_type": "code",
   "execution_count": 216,
   "metadata": {},
   "outputs": [
    {
     "data": {
      "text/latex": [
       "$\\displaystyle \\int\\limits_{\\frac{1}{3}}^{\\frac{2}{3}} 2 n_{1} \\cdot \\left(1 - n_{1}\\right)\\, dn_{1} + \\int\\limits_{\\frac{2}{3}}^{1} n_{1}^{2} \\left(\\int\\limits_{\\frac{1}{2}}^{1} n_{1}\\, dn_{1} + \\int\\limits_{0}^{\\frac{1}{2}} \\left(1 - n_{1}\\right)\\, dn_{1}\\right)\\, dn_{1} + \\int\\limits_{0}^{\\frac{1}{3}} \\left(1 - n_{1}\\right)^{2} \\left(\\int\\limits_{\\frac{1}{2}}^{1} n_{1}\\, dn_{1} + \\int\\limits_{0}^{\\frac{1}{2}} \\left(1 - n_{1}\\right)\\, dn_{1}\\right)\\, dn_{1}$"
      ],
      "text/plain": [
       "Integral(2*n1*(1 - n1), (n1, 1/3, 2/3)) + Integral(n1**2*(Integral(n1, (n1, 1/2, 1)) + Integral(1 - n1, (n1, 0, 1/2))), (n1, 2/3, 1)) + Integral((1 - n1)**2*(Integral(n1, (n1, 1/2, 1)) + Integral(1 - n1, (n1, 0, 1/2))), (n1, 0, 1/3))"
      ]
     },
     "execution_count": 216,
     "metadata": {},
     "output_type": "execute_result"
    }
   ],
   "source": [
    "P(3)"
   ]
  },
  {
   "cell_type": "code",
   "execution_count": 172,
   "metadata": {},
   "outputs": [
    {
     "data": {
      "text/latex": [
       "$\\displaystyle \\frac{83}{162}$"
      ],
      "text/plain": [
       "83/162"
      ]
     },
     "execution_count": 172,
     "metadata": {},
     "output_type": "execute_result"
    }
   ],
   "source": [
    "P(3).doit()"
   ]
  },
  {
   "cell_type": "code",
   "execution_count": 140,
   "metadata": {},
   "outputs": [
    {
     "data": {
      "image/png": "[encoded data removed]",
      "text/plain": [
       "<Figure size 640x480 with 1 Axes>"
      ]
     },
     "metadata": {},
     "output_type": "display_data"
    },
    {
     "data": {
      "text/plain": [
       "<sympy.plotting.plot.Plot at 0x7f0f7985b9d0>"
      ]
     },
     "execution_count": 140,
     "metadata": {},
     "output_type": "execute_result"
    }
   ],
   "source": [
    "plot(*[binomial(2, 0,n1), binomial(2, 1,n1)], (n1,0,1))"
   ]
  },
  {
   "cell_type": "code",
   "execution_count": 141,
   "metadata": {},
   "outputs": [
    {
     "ename": "AttributeError",
     "evalue": "'EmptySet' object has no attribute 'end'",
     "output_type": "error",
     "traceback": [
      "\u001b[0;31m---------------------------------------------------------------------------\u001b[0m",
      "\u001b[0;31mAttributeError\u001b[0m                            Traceback (most recent call last)",
      "Cell \u001b[0;32mIn[141], line 1\u001b[0m\n\u001b[0;32m----> 1\u001b[0m \u001b[43mopt\u001b[49m\u001b[43m(\u001b[49m\u001b[43mbuckets\u001b[49m\u001b[43m,\u001b[49m\u001b[43m \u001b[49m\u001b[38;5;241;43m2\u001b[39;49m\u001b[43m)\u001b[49m\n",
      "Cell \u001b[0;32mIn[139], line 18\u001b[0m, in \u001b[0;36mopt\u001b[0;34m(buckets, b)\u001b[0m\n\u001b[1;32m     16\u001b[0m i1 \u001b[38;5;241m=\u001b[39m (binomial(buckets, b\u001b[38;5;241m-\u001b[39m\u001b[38;5;241m1\u001b[39m, n1) \u001b[38;5;241m>\u001b[39m binomial(buckets,b, n1)) \n\u001b[1;32m     17\u001b[0m i2 \u001b[38;5;241m=\u001b[39m (binomial(buckets, b, n1) \u001b[38;5;241m>\u001b[39m binomial(buckets, b\u001b[38;5;241m+\u001b[39m\u001b[38;5;241m1\u001b[39m, n1))\n\u001b[0;32m---> 18\u001b[0m \u001b[38;5;28;01mreturn\u001b[39;00m Interval(solveset(i1, domain\u001b[38;5;241m=\u001b[39mInterval(\u001b[38;5;241m0\u001b[39m, \u001b[38;5;241m1\u001b[39m))\u001b[38;5;241m.\u001b[39mend, \u001b[43msolveset\u001b[49m\u001b[43m(\u001b[49m\u001b[43mi2\u001b[49m\u001b[43m,\u001b[49m\u001b[43m \u001b[49m\u001b[43mdomain\u001b[49m\u001b[38;5;241;43m=\u001b[39;49m\u001b[43mInterval\u001b[49m\u001b[43m(\u001b[49m\u001b[38;5;241;43m0\u001b[39;49m\u001b[43m,\u001b[49m\u001b[43m \u001b[49m\u001b[38;5;241;43m1\u001b[39;49m\u001b[43m)\u001b[49m\u001b[43m)\u001b[49m\u001b[38;5;241;43m.\u001b[39;49m\u001b[43mend\u001b[49m)\n",
      "\u001b[0;31mAttributeError\u001b[0m: 'EmptySet' object has no attribute 'end'"
     ]
    }
   ],
   "source": [
    "opt(buckets, 2)"
   ]
  },
  {
   "cell_type": "code",
   "execution_count": 110,
   "metadata": {},
   "outputs": [
    {
     "data": {
      "text/latex": [
       "$\\displaystyle \\int\\limits_{\\frac{1}{3}}^{\\frac{2}{3}} n_{1}\\, dn_{1} + \\int\\limits_{0}^{\\frac{1}{3}} \\left(1 - n_{1}\\right)\\, dn_{1}$"
      ],
      "text/plain": [
       "Integral(n1, (n1, 1/3, 2/3)) + Integral(1 - n1, (n1, 0, 1/3))"
      ]
     },
     "execution_count": 110,
     "metadata": {},
     "output_type": "execute_result"
    }
   ],
   "source": [
    "P(2)"
   ]
  },
  {
   "cell_type": "code",
   "execution_count": 89,
   "metadata": {},
   "outputs": [
    {
     "data": {
      "text/latex": [
       "$\\displaystyle \\int\\limits_{\\frac{1}{2}}^{\\frac{3}{4}} n_{1}^{2} \\left(\\int\\limits_{\\frac{1}{3}}^{\\frac{2}{3}} n_{1}\\, dn_{1} + \\int\\limits_{0}^{\\frac{1}{3}} \\left(1 - n_{1}\\right)\\, dn_{1}\\right)\\, dn_{1} + \\int\\limits_{0}^{\\frac{1}{4}} \\left(1 - n_{1}\\right)^{2} \\left(\\int\\limits_{\\frac{1}{3}}^{\\frac{2}{3}} n_{1}\\, dn_{1} + \\int\\limits_{0}^{\\frac{1}{3}} \\left(1 - n_{1}\\right)\\, dn_{1}\\right)\\, dn_{1} + \\int\\limits_{\\frac{1}{4}}^{\\frac{1}{2}} 2 n_{1} \\cdot \\left(1 - n_{1}\\right)\\, dn_{1}$"
      ],
      "text/plain": [
       "Integral(n1**2*(Integral(n1, (n1, 1/3, 2/3)) + Integral(1 - n1, (n1, 0, 1/3))), (n1, 1/2, 3/4)) + Integral((1 - n1)**2*(Integral(n1, (n1, 1/3, 2/3)) + Integral(1 - n1, (n1, 0, 1/3))), (n1, 0, 1/4)) + Integral(2*n1*(1 - n1), (n1, 1/4, 1/2))"
      ]
     },
     "execution_count": 89,
     "metadata": {},
     "output_type": "execute_result"
    }
   ],
   "source": [
    "P(3)"
   ]
  },
  {
   "cell_type": "code",
   "execution_count": 94,
   "metadata": {},
   "outputs": [],
   "source": [
    "buckets= 2"
   ]
  },
  {
   "cell_type": "code",
   "execution_count": 99,
   "metadata": {},
   "outputs": [
    {
     "data": {
      "text/latex": [
       "$\\displaystyle \\frac{5}{18}$"
      ],
      "text/plain": [
       "5/18"
      ]
     },
     "execution_count": 99,
     "metadata": {},
     "output_type": "execute_result"
    }
   ],
   "source": [
    "integrate(dist(buckets, 0, n1), (n1, opt(buckets, 0)))"
   ]
  },
  {
   "cell_type": "code",
   "execution_count": 92,
   "metadata": {},
   "outputs": [
    {
     "ename": "ValueError",
     "evalue": "'n' must be nonnegative integer. n = -1.",
     "output_type": "error",
     "traceback": [
      "\u001b[0;31m---------------------------------------------------------------------------\u001b[0m",
      "\u001b[0;31mValueError\u001b[0m                                Traceback (most recent call last)",
      "Cell \u001b[0;32mIn[92], line 1\u001b[0m\n\u001b[0;32m----> 1\u001b[0m \u001b[43mP\u001b[49m\u001b[43m(\u001b[49m\u001b[38;5;241;43m3\u001b[39;49m\u001b[43m)\u001b[49m\n",
      "Cell \u001b[0;32mIn[91], line 12\u001b[0m, in \u001b[0;36mP\u001b[0;34m(buckets)\u001b[0m\n\u001b[1;32m      8\u001b[0m     \u001b[38;5;28;01mreturn\u001b[39;00m [\u001b[38;5;241m1\u001b[39m, \u001b[38;5;241m1\u001b[39m][buckets]\n\u001b[1;32m      9\u001b[0m \u001b[38;5;28;01melse\u001b[39;00m:\n\u001b[1;32m     10\u001b[0m     \u001b[38;5;66;03m#b = Symbol(\"b\", integer=True, positive=True)\u001b[39;00m\n\u001b[1;32m     11\u001b[0m     \u001b[38;5;66;03m#return Sum(Integral(dist(buckets, b, n1), (n1, opt(buckets, b))), (b,0,buckets))\u001b[39;00m\n\u001b[0;32m---> 12\u001b[0m     \u001b[38;5;28;01mreturn\u001b[39;00m \u001b[38;5;28;43msum\u001b[39;49m\u001b[43m(\u001b[49m\u001b[43mintegrate\u001b[49m\u001b[43m(\u001b[49m\u001b[43mdist\u001b[49m\u001b[43m(\u001b[49m\u001b[43mbuckets\u001b[49m\u001b[43m,\u001b[49m\u001b[43m \u001b[49m\u001b[43mb\u001b[49m\u001b[43m,\u001b[49m\u001b[43m \u001b[49m\u001b[43mn1\u001b[49m\u001b[43m)\u001b[49m\u001b[43m,\u001b[49m\u001b[43m \u001b[49m\u001b[43m(\u001b[49m\u001b[43mn1\u001b[49m\u001b[43m,\u001b[49m\u001b[43m \u001b[49m\u001b[43mopt\u001b[49m\u001b[43m(\u001b[49m\u001b[43mbuckets\u001b[49m\u001b[43m,\u001b[49m\u001b[43m \u001b[49m\u001b[43mb\u001b[49m\u001b[43m)\u001b[49m\u001b[43m)\u001b[49m\u001b[43m)\u001b[49m\u001b[43m \u001b[49m\u001b[38;5;28;43;01mfor\u001b[39;49;00m\u001b[43m \u001b[49m\u001b[43mb\u001b[49m\u001b[43m \u001b[49m\u001b[38;5;129;43;01min\u001b[39;49;00m\u001b[43m \u001b[49m\u001b[38;5;28;43mrange\u001b[39;49m\u001b[43m(\u001b[49m\u001b[43mbuckets\u001b[49m\u001b[43m)\u001b[49m\u001b[43m)\u001b[49m\n",
      "Cell \u001b[0;32mIn[91], line 12\u001b[0m, in \u001b[0;36m<genexpr>\u001b[0;34m(.0)\u001b[0m\n\u001b[1;32m      8\u001b[0m     \u001b[38;5;28;01mreturn\u001b[39;00m [\u001b[38;5;241m1\u001b[39m, \u001b[38;5;241m1\u001b[39m][buckets]\n\u001b[1;32m      9\u001b[0m \u001b[38;5;28;01melse\u001b[39;00m:\n\u001b[1;32m     10\u001b[0m     \u001b[38;5;66;03m#b = Symbol(\"b\", integer=True, positive=True)\u001b[39;00m\n\u001b[1;32m     11\u001b[0m     \u001b[38;5;66;03m#return Sum(Integral(dist(buckets, b, n1), (n1, opt(buckets, b))), (b,0,buckets))\u001b[39;00m\n\u001b[0;32m---> 12\u001b[0m     \u001b[38;5;28;01mreturn\u001b[39;00m \u001b[38;5;28msum\u001b[39m(integrate(\u001b[43mdist\u001b[49m\u001b[43m(\u001b[49m\u001b[43mbuckets\u001b[49m\u001b[43m,\u001b[49m\u001b[43m \u001b[49m\u001b[43mb\u001b[49m\u001b[43m,\u001b[49m\u001b[43m \u001b[49m\u001b[43mn1\u001b[49m\u001b[43m)\u001b[49m, (n1, opt(buckets, b))) \u001b[38;5;28;01mfor\u001b[39;00m b \u001b[38;5;129;01min\u001b[39;00m \u001b[38;5;28mrange\u001b[39m(buckets))\n",
      "File \u001b[0;32m~/probability-sorting/onsort/discrete_prob.py:21\u001b[0m, in \u001b[0;36mdist\u001b[0;34m(buckets, items, n)\u001b[0m\n\u001b[1;32m     19\u001b[0m \u001b[38;5;28;01mdef\u001b[39;00m \u001b[38;5;21mdist\u001b[39m(buckets: \u001b[38;5;28mint\u001b[39m, items: \u001b[38;5;28mint\u001b[39m, n: \u001b[38;5;28mint\u001b[39m) \u001b[38;5;241m-\u001b[39m\u001b[38;5;241m>\u001b[39m \u001b[38;5;28mlist\u001b[39m:\n\u001b[1;32m     20\u001b[0m \u001b[38;5;250m    \u001b[39m\u001b[38;5;124;03m\"\"\"Probabiliby of winning for each bucket by placing the first element n on it\"\"\"\u001b[39;00m\n\u001b[0;32m---> 21\u001b[0m     \u001b[38;5;28;01mreturn\u001b[39;00m \u001b[43m[\u001b[49m\u001b[43mpnb\u001b[49m\u001b[43m(\u001b[49m\u001b[43mbuckets\u001b[49m\u001b[43m,\u001b[49m\u001b[43m \u001b[49m\u001b[43mitems\u001b[49m\u001b[43m,\u001b[49m\u001b[43m \u001b[49m\u001b[43mb\u001b[49m\u001b[43m,\u001b[49m\u001b[43m \u001b[49m\u001b[43mn\u001b[49m\u001b[43m)\u001b[49m\u001b[43m \u001b[49m\u001b[38;5;28;43;01mfor\u001b[39;49;00m\u001b[43m \u001b[49m\u001b[43mb\u001b[49m\u001b[43m \u001b[49m\u001b[38;5;129;43;01min\u001b[39;49;00m\u001b[43m \u001b[49m\u001b[38;5;28;43mrange\u001b[39;49m\u001b[43m(\u001b[49m\u001b[43mbuckets\u001b[49m\u001b[43m)\u001b[49m\u001b[43m]\u001b[49m\n",
      "File \u001b[0;32m~/probability-sorting/onsort/discrete_prob.py:21\u001b[0m, in \u001b[0;36m<listcomp>\u001b[0;34m(.0)\u001b[0m\n\u001b[1;32m     19\u001b[0m \u001b[38;5;28;01mdef\u001b[39;00m \u001b[38;5;21mdist\u001b[39m(buckets: \u001b[38;5;28mint\u001b[39m, items: \u001b[38;5;28mint\u001b[39m, n: \u001b[38;5;28mint\u001b[39m) \u001b[38;5;241m-\u001b[39m\u001b[38;5;241m>\u001b[39m \u001b[38;5;28mlist\u001b[39m:\n\u001b[1;32m     20\u001b[0m \u001b[38;5;250m    \u001b[39m\u001b[38;5;124;03m\"\"\"Probabiliby of winning for each bucket by placing the first element n on it\"\"\"\u001b[39;00m\n\u001b[0;32m---> 21\u001b[0m     \u001b[38;5;28;01mreturn\u001b[39;00m [\u001b[43mpnb\u001b[49m\u001b[43m(\u001b[49m\u001b[43mbuckets\u001b[49m\u001b[43m,\u001b[49m\u001b[43m \u001b[49m\u001b[43mitems\u001b[49m\u001b[43m,\u001b[49m\u001b[43m \u001b[49m\u001b[43mb\u001b[49m\u001b[43m,\u001b[49m\u001b[43m \u001b[49m\u001b[43mn\u001b[49m\u001b[43m)\u001b[49m \u001b[38;5;28;01mfor\u001b[39;00m b \u001b[38;5;129;01min\u001b[39;00m \u001b[38;5;28mrange\u001b[39m(buckets)]\n",
      "File \u001b[0;32m~/probability-sorting/onsort/discrete_prob.py:45\u001b[0m, in \u001b[0;36mpnb\u001b[0;34m(buckets, items, b, n)\u001b[0m\n\u001b[1;32m     42\u001b[0m \u001b[38;5;129m@lru_cache\u001b[39m\n\u001b[1;32m     43\u001b[0m \u001b[38;5;28;01mdef\u001b[39;00m \u001b[38;5;21mpnb\u001b[39m(buckets: \u001b[38;5;28mint\u001b[39m, items: \u001b[38;5;28mint\u001b[39m, b: \u001b[38;5;28mint\u001b[39m, n: \u001b[38;5;28mint\u001b[39m) \u001b[38;5;241m-\u001b[39m\u001b[38;5;241m>\u001b[39m Float:\n\u001b[1;32m     44\u001b[0m \u001b[38;5;250m    \u001b[39m\u001b[38;5;124;03m\"\"\"PNB -> Probability of winning by placing the item N in bucket B\"\"\"\u001b[39;00m\n\u001b[0;32m---> 45\u001b[0m     \u001b[38;5;28;01mreturn\u001b[39;00m \u001b[43mhyp\u001b[49m\u001b[43m(\u001b[49m\u001b[43mbuckets\u001b[49m\u001b[43m,\u001b[49m\u001b[43m \u001b[49m\u001b[43mitems\u001b[49m\u001b[43m,\u001b[49m\u001b[43m \u001b[49m\u001b[43mb\u001b[49m\u001b[43m,\u001b[49m\u001b[43m \u001b[49m\u001b[43mn\u001b[49m\u001b[43m)\u001b[49m \u001b[38;5;241m*\u001b[39m P(b, n) \u001b[38;5;241m*\u001b[39m P(buckets \u001b[38;5;241m-\u001b[39m \u001b[38;5;241m1\u001b[39m \u001b[38;5;241m-\u001b[39m b, items \u001b[38;5;241m-\u001b[39m n \u001b[38;5;241m-\u001b[39m \u001b[38;5;241m1\u001b[39m)\n",
      "File \u001b[0;32m~/probability-sorting/onsort/discrete_prob.py:16\u001b[0m, in \u001b[0;36mhyp\u001b[0;34m(buckets, items, bucket, n)\u001b[0m\n\u001b[1;32m      9\u001b[0m \u001b[38;5;250m\u001b[39m\u001b[38;5;124;03m\"\"\"\u001b[39;00m\n\u001b[1;32m     10\u001b[0m \u001b[38;5;124;03mProbabilty of getting the correct distribution:\u001b[39;00m\n\u001b[1;32m     11\u001b[0m \u001b[38;5;124;03m    /= bucket\u001b[39;00m\n\u001b[1;32m     12\u001b[0m \u001b[38;5;124;03m[_][n][_]  items 0...n...items\u001b[39;00m\n\u001b[1;32m     13\u001b[0m \u001b[38;5;124;03m^buckets^\u001b[39;00m\n\u001b[1;32m     14\u001b[0m \u001b[38;5;124;03m\"\"\"\u001b[39;00m\n\u001b[1;32m     15\u001b[0m trials \u001b[38;5;241m=\u001b[39m buckets \u001b[38;5;241m-\u001b[39m \u001b[38;5;241m1\u001b[39m\n\u001b[0;32m---> 16\u001b[0m \u001b[38;5;28;01mreturn\u001b[39;00m density(\u001b[43mHypergeometric\u001b[49m\u001b[43m(\u001b[49m\u001b[38;5;124;43m\"\u001b[39;49m\u001b[38;5;124;43mH\u001b[39;49m\u001b[38;5;124;43m\"\u001b[39;49m\u001b[43m,\u001b[49m\u001b[43m \u001b[49m\u001b[43mitems\u001b[49m\u001b[43m \u001b[49m\u001b[38;5;241;43m-\u001b[39;49m\u001b[43m \u001b[49m\u001b[38;5;241;43m1\u001b[39;49m\u001b[43m,\u001b[49m\u001b[43m \u001b[49m\u001b[43mn\u001b[49m\u001b[43m,\u001b[49m\u001b[43m \u001b[49m\u001b[43mtrials\u001b[49m\u001b[43m)\u001b[49m)(bucket)\n",
      "File \u001b[0;32m~/probability-sorting/.venv/lib/python3.11/site-packages/sympy/stats/frv_types.py:630\u001b[0m, in \u001b[0;36mHypergeometric\u001b[0;34m(name, N, m, n)\u001b[0m\n\u001b[1;32m    594\u001b[0m \u001b[38;5;28;01mdef\u001b[39;00m \u001b[38;5;21mHypergeometric\u001b[39m(name, N, m, n):\n\u001b[1;32m    595\u001b[0m \u001b[38;5;250m    \u001b[39m\u001b[38;5;124mr\u001b[39m\u001b[38;5;124;03m\"\"\"\u001b[39;00m\n\u001b[1;32m    596\u001b[0m \u001b[38;5;124;03m    Create a Finite Random Variable representing a hypergeometric distribution.\u001b[39;00m\n\u001b[1;32m    597\u001b[0m \n\u001b[0;32m   (...)\u001b[0m\n\u001b[1;32m    628\u001b[0m \n\u001b[1;32m    629\u001b[0m \u001b[38;5;124;03m    \"\"\"\u001b[39;00m\n\u001b[0;32m--> 630\u001b[0m     \u001b[38;5;28;01mreturn\u001b[39;00m \u001b[43mrv\u001b[49m\u001b[43m(\u001b[49m\u001b[43mname\u001b[49m\u001b[43m,\u001b[49m\u001b[43m \u001b[49m\u001b[43mHypergeometricDistribution\u001b[49m\u001b[43m,\u001b[49m\u001b[43m \u001b[49m\u001b[43mN\u001b[49m\u001b[43m,\u001b[49m\u001b[43m \u001b[49m\u001b[43mm\u001b[49m\u001b[43m,\u001b[49m\u001b[43m \u001b[49m\u001b[43mn\u001b[49m\u001b[43m)\u001b[49m\n",
      "File \u001b[0;32m~/probability-sorting/.venv/lib/python3.11/site-packages/sympy/stats/frv_types.py:59\u001b[0m, in \u001b[0;36mrv\u001b[0;34m(name, cls, *args, **kwargs)\u001b[0m\n\u001b[1;32m     57\u001b[0m dist \u001b[38;5;241m=\u001b[39m \u001b[38;5;28mcls\u001b[39m(\u001b[38;5;241m*\u001b[39margs)\n\u001b[1;32m     58\u001b[0m \u001b[38;5;28;01mif\u001b[39;00m kwargs\u001b[38;5;241m.\u001b[39mpop(\u001b[38;5;124m'\u001b[39m\u001b[38;5;124mcheck\u001b[39m\u001b[38;5;124m'\u001b[39m, \u001b[38;5;28;01mTrue\u001b[39;00m):\n\u001b[0;32m---> 59\u001b[0m     \u001b[43mdist\u001b[49m\u001b[38;5;241;43m.\u001b[39;49m\u001b[43mcheck\u001b[49m\u001b[43m(\u001b[49m\u001b[38;5;241;43m*\u001b[39;49m\u001b[43margs\u001b[49m\u001b[43m)\u001b[49m\n\u001b[1;32m     60\u001b[0m pspace \u001b[38;5;241m=\u001b[39m SingleFinitePSpace(name, dist)\n\u001b[1;32m     61\u001b[0m \u001b[38;5;28;01mif\u001b[39;00m \u001b[38;5;28many\u001b[39m(is_random(arg) \u001b[38;5;28;01mfor\u001b[39;00m arg \u001b[38;5;129;01min\u001b[39;00m args):\n",
      "File \u001b[0;32m~/probability-sorting/.venv/lib/python3.11/site-packages/sympy/stats/frv_types.py:565\u001b[0m, in \u001b[0;36mHypergeometricDistribution.check\u001b[0;34m(n, N, m)\u001b[0m\n\u001b[1;32m    561\u001b[0m \u001b[38;5;129m@staticmethod\u001b[39m\n\u001b[1;32m    562\u001b[0m \u001b[38;5;28;01mdef\u001b[39;00m \u001b[38;5;21mcheck\u001b[39m(n, N, m):\n\u001b[1;32m    563\u001b[0m     _value_check((N\u001b[38;5;241m.\u001b[39mis_integer, N\u001b[38;5;241m.\u001b[39mis_nonnegative),\n\u001b[1;32m    564\u001b[0m                  \u001b[38;5;124m\"\u001b[39m\u001b[38;5;124m'\u001b[39m\u001b[38;5;124mN\u001b[39m\u001b[38;5;124m'\u001b[39m\u001b[38;5;124m must be nonnegative integer. N = \u001b[39m\u001b[38;5;132;01m%s\u001b[39;00m\u001b[38;5;124m.\u001b[39m\u001b[38;5;124m\"\u001b[39m \u001b[38;5;241m%\u001b[39m \u001b[38;5;28mstr\u001b[39m(n))\n\u001b[0;32m--> 565\u001b[0m     \u001b[43m_value_check\u001b[49m\u001b[43m(\u001b[49m\u001b[43m(\u001b[49m\u001b[43mn\u001b[49m\u001b[38;5;241;43m.\u001b[39;49m\u001b[43mis_integer\u001b[49m\u001b[43m,\u001b[49m\u001b[43m \u001b[49m\u001b[43mn\u001b[49m\u001b[38;5;241;43m.\u001b[39;49m\u001b[43mis_nonnegative\u001b[49m\u001b[43m)\u001b[49m\u001b[43m,\u001b[49m\n\u001b[1;32m    566\u001b[0m \u001b[43m                 \u001b[49m\u001b[38;5;124;43m\"\u001b[39;49m\u001b[38;5;124;43m'\u001b[39;49m\u001b[38;5;124;43mn\u001b[39;49m\u001b[38;5;124;43m'\u001b[39;49m\u001b[38;5;124;43m must be nonnegative integer. n = \u001b[39;49m\u001b[38;5;132;43;01m%s\u001b[39;49;00m\u001b[38;5;124;43m.\u001b[39;49m\u001b[38;5;124;43m\"\u001b[39;49m\u001b[43m \u001b[49m\u001b[38;5;241;43m%\u001b[39;49m\u001b[43m \u001b[49m\u001b[38;5;28;43mstr\u001b[39;49m\u001b[43m(\u001b[49m\u001b[43mn\u001b[49m\u001b[43m)\u001b[49m\u001b[43m)\u001b[49m\n\u001b[1;32m    567\u001b[0m     _value_check((m\u001b[38;5;241m.\u001b[39mis_integer, m\u001b[38;5;241m.\u001b[39mis_nonnegative),\n\u001b[1;32m    568\u001b[0m                  \u001b[38;5;124m\"\u001b[39m\u001b[38;5;124m'\u001b[39m\u001b[38;5;124mm\u001b[39m\u001b[38;5;124m'\u001b[39m\u001b[38;5;124m must be nonnegative integer. m = \u001b[39m\u001b[38;5;132;01m%s\u001b[39;00m\u001b[38;5;124m.\u001b[39m\u001b[38;5;124m\"\u001b[39m \u001b[38;5;241m%\u001b[39m \u001b[38;5;28mstr\u001b[39m(n))\n",
      "File \u001b[0;32m~/probability-sorting/.venv/lib/python3.11/site-packages/sympy/stats/rv.py:1708\u001b[0m, in \u001b[0;36m_value_check\u001b[0;34m(condition, message)\u001b[0m\n\u001b[1;32m   1706\u001b[0m truth \u001b[38;5;241m=\u001b[39m fuzzy_and(condition)\n\u001b[1;32m   1707\u001b[0m \u001b[38;5;28;01mif\u001b[39;00m truth \u001b[38;5;241m==\u001b[39m \u001b[38;5;28;01mFalse\u001b[39;00m:\n\u001b[0;32m-> 1708\u001b[0m     \u001b[38;5;28;01mraise\u001b[39;00m \u001b[38;5;167;01mValueError\u001b[39;00m(message)\n\u001b[1;32m   1709\u001b[0m \u001b[38;5;28;01mreturn\u001b[39;00m truth \u001b[38;5;241m==\u001b[39m \u001b[38;5;28;01mTrue\u001b[39;00m\n",
      "\u001b[0;31mValueError\u001b[0m: 'n' must be nonnegative integer. n = -1."
     ]
    }
   ],
   "source": [
    "P(3)"
   ]
  },
  {
   "cell_type": "code",
   "execution_count": 70,
   "metadata": {},
   "outputs": [],
   "source": [
    "buckets= 3"
   ]
  },
  {
   "cell_type": "code",
   "execution_count": 211,
   "metadata": {},
   "outputs": [
    {
     "name": "stdout",
     "output_type": "stream",
     "text": [
      "Interval(0, 1/4)\n"
     ]
    },
    {
     "data": {
      "text/latex": [
       "$\\displaystyle 1 < n_{1} \\vee n_{1} < \\frac{1}{2}$"
      ],
      "text/plain": [
       "(1 < n1) | (n1 < 1/2)"
      ]
     },
     "execution_count": 211,
     "metadata": {},
     "output_type": "execute_result"
    }
   ],
   "source": [
    "b = 1\n",
    "n1 = Symbol(\"n1\", positive=True, real= True)\n",
    "s = solve(binomial(buckets, b, n1) > binomial(buckets, b+1, n1))\n",
    "if b == 0:\n",
    "    upper_bound = s.rhs\n",
    "    inter = Interval(0, upper_bound)\n",
    "else:\n",
    "    inter = Interval(0, upper_bound)\n",
    "print(inter)\n",
    "s"
   ]
  },
  {
   "cell_type": "code",
   "execution_count": 194,
   "metadata": {},
   "outputs": [
    {
     "data": {
      "text/latex": [
       "$\\displaystyle n_{1} < \\frac{1}{2}$"
      ],
      "text/plain": [
       "n1 < 1/2"
      ]
     },
     "execution_count": 194,
     "metadata": {},
     "output_type": "execute_result"
    }
   ],
   "source": [
    "simplify(s & (n1<=1))"
   ]
  },
  {
   "cell_type": "code",
   "execution_count": 212,
   "metadata": {},
   "outputs": [
    {
     "ename": "AttributeError",
     "evalue": "'And' object has no attribute 'as_real_imag'",
     "output_type": "error",
     "traceback": [
      "\u001b[0;31m---------------------------------------------------------------------------\u001b[0m",
      "\u001b[0;31mAttributeError\u001b[0m                            Traceback (most recent call last)",
      "Cell \u001b[0;32mIn[212], line 2\u001b[0m\n\u001b[1;32m      1\u001b[0m \u001b[38;5;28mbin\u001b[39m \u001b[38;5;241m=\u001b[39m  binomial(buckets, b, n1)\n\u001b[0;32m----> 2\u001b[0m \u001b[43msolve\u001b[49m\u001b[43m(\u001b[49m\u001b[43msimplify\u001b[49m\u001b[43m(\u001b[49m\u001b[43m(\u001b[49m\u001b[43mbinomial\u001b[49m\u001b[43m(\u001b[49m\u001b[43mbuckets\u001b[49m\u001b[43m,\u001b[49m\u001b[43m \u001b[49m\u001b[43mb\u001b[49m\u001b[38;5;241;43m-\u001b[39;49m\u001b[38;5;241;43m1\u001b[39;49m\u001b[43m,\u001b[49m\u001b[43m \u001b[49m\u001b[43mn1\u001b[49m\u001b[43m)\u001b[49m\u001b[43m \u001b[49m\u001b[38;5;241;43m<\u001b[39;49m\u001b[43m \u001b[49m\u001b[38;5;28;43mbin\u001b[39;49m\u001b[43m)\u001b[49m\u001b[43m \u001b[49m\u001b[38;5;241;43m&\u001b[39;49m\u001b[43m \u001b[49m\u001b[43m(\u001b[49m\u001b[38;5;28;43mbin\u001b[39;49m\u001b[43m \u001b[49m\u001b[38;5;241;43m>\u001b[39;49m\u001b[43m \u001b[49m\u001b[43mbinomial\u001b[49m\u001b[43m(\u001b[49m\u001b[43mbuckets\u001b[49m\u001b[43m,\u001b[49m\u001b[43m \u001b[49m\u001b[43mb\u001b[49m\u001b[38;5;241;43m+\u001b[39;49m\u001b[38;5;241;43m1\u001b[39;49m\u001b[43m,\u001b[49m\u001b[43m \u001b[49m\u001b[43mn1\u001b[49m\u001b[43m)\u001b[49m\u001b[43m)\u001b[49m\u001b[43m)\u001b[49m\u001b[43m)\u001b[49m\n",
      "File \u001b[0;32m~/probability-sorting/.venv/lib/python3.11/site-packages/sympy/solvers/solvers.py:980\u001b[0m, in \u001b[0;36msolve\u001b[0;34m(f, *symbols, **flags)\u001b[0m\n\u001b[1;32m    978\u001b[0m freei \u001b[38;5;241m=\u001b[39m f[i]\u001b[38;5;241m.\u001b[39mfree_symbols\n\u001b[1;32m    979\u001b[0m \u001b[38;5;28;01mif\u001b[39;00m freei \u001b[38;5;129;01mand\u001b[39;00m \u001b[38;5;28mall\u001b[39m(s\u001b[38;5;241m.\u001b[39mis_extended_real \u001b[38;5;129;01mor\u001b[39;00m s\u001b[38;5;241m.\u001b[39mis_imaginary \u001b[38;5;28;01mfor\u001b[39;00m s \u001b[38;5;129;01min\u001b[39;00m freei):\n\u001b[0;32m--> 980\u001b[0m     fr, fi \u001b[38;5;241m=\u001b[39m \u001b[43mf\u001b[49m\u001b[43m[\u001b[49m\u001b[43mi\u001b[49m\u001b[43m]\u001b[49m\u001b[38;5;241;43m.\u001b[39;49m\u001b[43mas_real_imag\u001b[49m()\n\u001b[1;32m    981\u001b[0m     \u001b[38;5;66;03m# accept as long as new re, im, arg or atan2 are not introduced\u001b[39;00m\n\u001b[1;32m    982\u001b[0m     had \u001b[38;5;241m=\u001b[39m f[i]\u001b[38;5;241m.\u001b[39matoms(re, im, arg, atan2)\n",
      "\u001b[0;31mAttributeError\u001b[0m: 'And' object has no attribute 'as_real_imag'"
     ]
    }
   ],
   "source": [
    "bin =  binomial(buckets, b, n1)\n",
    "solve(simplify((binomial(buckets, b-1, n1) < bin) & (bin > binomial(buckets, b+1, n1))))"
   ]
  },
  {
   "cell_type": "code",
   "execution_count": 219,
   "metadata": {},
   "outputs": [
    {
     "data": {
      "text/latex": [
       "$\\displaystyle n_{1} > \\frac{1}{4} \\wedge n_{1} < \\frac{1}{2} \\wedge n_{1} \\neq 1$"
      ],
      "text/plain": [
       "(n1 > 1/4) & (n1 < 1/2) & Ne(n1, 1)"
      ]
     },
     "execution_count": 219,
     "metadata": {},
     "output_type": "execute_result"
    }
   ],
   "source": [
    "simplify(solve(binomial(buckets, b-1, n1) < bin) & solve(bin > binomial(buckets, b+1, n1)) & (n1<=1) & (n1>=0)) "
   ]
  },
  {
   "cell_type": "code",
   "execution_count": 233,
   "metadata": {},
   "outputs": [
    {
     "data": {
      "text/latex": [
       "$\\displaystyle n_{1} > \\frac{1}{4} \\wedge n_{1} < 1$"
      ],
      "text/plain": [
       "(n1 > 1/4) & (n1 < 1)"
      ]
     },
     "execution_count": 233,
     "metadata": {},
     "output_type": "execute_result"
    }
   ],
   "source": [
    "simplify((n1<=1) & solve(binomial(buckets, b-1, n1) < bin) )"
   ]
  },
  {
   "cell_type": "code",
   "execution_count": 239,
   "metadata": {},
   "outputs": [
    {
     "data": {
      "text/latex": [
       "$\\displaystyle n_{1} \\leq 1 \\wedge 3 n_{1} \\left(1 - n_{1}\\right)^{2} > 3 n_{1}^{2} \\cdot \\left(1 - n_{1}\\right) \\wedge \\left(1 - n_{1}\\right)^{3} < 3 n_{1} \\left(1 - n_{1}\\right)^{2}$"
      ],
      "text/plain": [
       "(n1 <= 1) & ((1 - n1)**3 < 3*n1*(1 - n1)**2) & (3*n1*(1 - n1)**2 > 3*n1**2*(1 - n1))"
      ]
     },
     "execution_count": 239,
     "metadata": {},
     "output_type": "execute_result"
    }
   ],
   "source": [
    "(binomial(buckets, b-1, n1) < bin) & (bin > binomial(buckets, b+1, n1)) & (n1<=1) & (n1>=0)"
   ]
  },
  {
   "cell_type": "code",
   "execution_count": 242,
   "metadata": {},
   "outputs": [
    {
     "data": {
      "text/latex": [
       "$\\displaystyle \\left(\\frac{1}{4}, 1\\right) \\cup \\left(1, \\infty\\right)$"
      ],
      "text/plain": [
       "Union(Interval.open(1/4, 1), Interval.open(1, oo))"
      ]
     },
     "execution_count": 242,
     "metadata": {},
     "output_type": "execute_result"
    }
   ],
   "source": [
    "solveset((binomial(buckets, b-1, n1) < bin) , n1, domain=S.Reals)"
   ]
  },
  {
   "cell_type": "code",
   "execution_count": null,
   "metadata": {},
   "outputs": [],
   "source": []
  },
  {
   "cell_type": "code",
   "execution_count": 235,
   "metadata": {},
   "outputs": [],
   "source": [
    "from sympy import symbols, solveset, S, Interval"
   ]
  },
  {
   "cell_type": "code",
   "execution_count": 168,
   "metadata": {},
   "outputs": [
    {
     "data": {
      "text/latex": [
       "$\\displaystyle \\int\\limits^{1 < n_{1} \\vee n_{1} < \\frac{1}{2}} \\left(1 - n_{1}\\right)^{3}\\, dn_{1}$"
      ],
      "text/plain": [
       "Integral((1 - n1)**3, (n1, (1 < n1) | (n1 < 1/2)))"
      ]
     },
     "execution_count": 168,
     "metadata": {},
     "output_type": "execute_result"
    }
   ],
   "source": [
    "Integral(binomial(buckets, 0, n1) ,  (n1, s ))"
   ]
  },
  {
   "cell_type": "code",
   "execution_count": 166,
   "metadata": {},
   "outputs": [
    {
     "data": {
      "text/latex": [
       "$\\displaystyle 1 < n_{1} \\vee n_{1} < \\frac{1}{2}$"
      ],
      "text/plain": [
       "(1 < n1) | (n1 < 1/2)"
      ]
     },
     "execution_count": 166,
     "metadata": {},
     "output_type": "execute_result"
    }
   ],
   "source": [
    "s & (n1>0)"
   ]
  },
  {
   "cell_type": "code",
   "execution_count": 116,
   "metadata": {},
   "outputs": [],
   "source": [
    "s2 = solve(binomial(buckets, 1, n1) > binomial(buckets, 2, n1))"
   ]
  },
  {
   "cell_type": "code",
   "execution_count": 121,
   "metadata": {},
   "outputs": [
    {
     "data": {
      "text/latex": [
       "$\\displaystyle n_{1} > 1 \\vee n_{1} < \\frac{1}{2}$"
      ],
      "text/plain": [
       "(n1 > 1) | (n1 < 1/2)"
      ]
     },
     "execution_count": 121,
     "metadata": {},
     "output_type": "execute_result"
    }
   ],
   "source": [
    "simplify(s2) #  & (n1>1))"
   ]
  },
  {
   "cell_type": "code",
   "execution_count": 48,
   "metadata": {},
   "outputs": [
    {
     "ename": "TypeError",
     "evalue": "P() missing 1 required positional argument: 'items'",
     "output_type": "error",
     "traceback": [
      "\u001b[0;31m---------------------------------------------------------------------------\u001b[0m",
      "\u001b[0;31mTypeError\u001b[0m                                 Traceback (most recent call last)",
      "Cell \u001b[0;32mIn[48], line 1\u001b[0m\n\u001b[0;32m----> 1\u001b[0m \u001b[43mP\u001b[49m\u001b[43m(\u001b[49m\u001b[38;5;241;43m3\u001b[39;49m\u001b[43m)\u001b[49m\n",
      "\u001b[0;31mTypeError\u001b[0m: P() missing 1 required positional argument: 'items'"
     ]
    }
   ],
   "source": [
    "P(3)"
   ]
  },
  {
   "cell_type": "code",
   "execution_count": 46,
   "metadata": {},
   "outputs": [],
   "source": [
    "from math import comb\n",
    "def binomial(buckets: int, k: int, n: float) -> Expr: \n",
    "    # n successes over k trials\n",
    "    # faster that using sympy Binomial\n",
    "    # n1 is prob of success tha is integrated latter\n",
    "    return comb(buckets, k) * (1 - n) ** (buckets - k) * n ** (k)"
   ]
  },
  {
   "cell_type": "code",
   "execution_count": 47,
   "metadata": {},
   "outputs": [
    {
     "data": {
      "text/latex": [
       "$\\displaystyle buckets - 1$"
      ],
      "text/plain": [
       "buckets - 1"
      ]
     },
     "execution_count": 47,
     "metadata": {},
     "output_type": "execute_result"
    }
   ],
   "source": [
    "S(buckets - 1)"
   ]
  },
  {
   "cell_type": "code",
   "execution_count": 45,
   "metadata": {},
   "outputs": [
    {
     "ename": "TypeError",
     "evalue": "'Add' object cannot be interpreted as an integer",
     "output_type": "error",
     "traceback": [
      "\u001b[0;31m---------------------------------------------------------------------------\u001b[0m",
      "\u001b[0;31mTypeError\u001b[0m                                 Traceback (most recent call last)",
      "Cell \u001b[0;32mIn[45], line 3\u001b[0m\n\u001b[1;32m      1\u001b[0m buckets \u001b[38;5;241m=\u001b[39m Symbol(\u001b[38;5;124m'\u001b[39m\u001b[38;5;124mbuckets\u001b[39m\u001b[38;5;124m'\u001b[39m, integer \u001b[38;5;241m=\u001b[39m \u001b[38;5;28;01mTrue\u001b[39;00m, positive\u001b[38;5;241m=\u001b[39m \u001b[38;5;28;01mTrue\u001b[39;00m)\n\u001b[1;32m      2\u001b[0m b \u001b[38;5;241m=\u001b[39m Symbol(\u001b[38;5;124m'\u001b[39m\u001b[38;5;124mb\u001b[39m\u001b[38;5;124m'\u001b[39m, integer \u001b[38;5;241m=\u001b[39m \u001b[38;5;28;01mTrue\u001b[39;00m, positive\u001b[38;5;241m=\u001b[39m \u001b[38;5;28;01mTrue\u001b[39;00m)\n\u001b[0;32m----> 3\u001b[0m dist0 \u001b[38;5;241m=\u001b[39m \u001b[43mbinomial\u001b[49m\u001b[43m(\u001b[49m\u001b[43mfloor\u001b[49m\u001b[43m(\u001b[49m\u001b[43mbuckets\u001b[49m\u001b[43m \u001b[49m\u001b[38;5;241;43m-\u001b[39;49m\u001b[43m \u001b[49m\u001b[38;5;241;43m1\u001b[39;49m\u001b[43m)\u001b[49m\u001b[43m,\u001b[49m\u001b[43m \u001b[49m\u001b[43mb\u001b[49m\u001b[43m,\u001b[49m\u001b[43m \u001b[49m\u001b[43mn1\u001b[49m\u001b[43m)\u001b[49m \n\u001b[1;32m      4\u001b[0m dist1 \u001b[38;5;241m=\u001b[39m binomial(buckets \u001b[38;5;241m-\u001b[39m \u001b[38;5;241m1\u001b[39m, b\u001b[38;5;241m+\u001b[39m\u001b[38;5;241m1\u001b[39m, n1)\n",
      "Cell \u001b[0;32mIn[43], line 6\u001b[0m, in \u001b[0;36mbinomial\u001b[0;34m(buckets, k, n)\u001b[0m\n\u001b[1;32m      2\u001b[0m \u001b[38;5;28;01mdef\u001b[39;00m \u001b[38;5;21mbinomial\u001b[39m(buckets: \u001b[38;5;28mint\u001b[39m, k: \u001b[38;5;28mint\u001b[39m, n: \u001b[38;5;28mfloat\u001b[39m) \u001b[38;5;241m-\u001b[39m\u001b[38;5;241m>\u001b[39m Expr: \n\u001b[1;32m      3\u001b[0m     \u001b[38;5;66;03m# n successes over k trials\u001b[39;00m\n\u001b[1;32m      4\u001b[0m     \u001b[38;5;66;03m# faster that using sympy Binomial\u001b[39;00m\n\u001b[1;32m      5\u001b[0m     \u001b[38;5;66;03m# n1 is prob of success tha is integrated latter\u001b[39;00m\n\u001b[0;32m----> 6\u001b[0m     \u001b[38;5;28;01mreturn\u001b[39;00m \u001b[43mcomb\u001b[49m\u001b[43m(\u001b[49m\u001b[43mbuckets\u001b[49m\u001b[43m,\u001b[49m\u001b[43m \u001b[49m\u001b[43mk\u001b[49m\u001b[43m)\u001b[49m \u001b[38;5;241m*\u001b[39m (\u001b[38;5;241m1\u001b[39m \u001b[38;5;241m-\u001b[39m n) \u001b[38;5;241m*\u001b[39m\u001b[38;5;241m*\u001b[39m floor(buckets \u001b[38;5;241m-\u001b[39m k) \u001b[38;5;241m*\u001b[39m n \u001b[38;5;241m*\u001b[39m\u001b[38;5;241m*\u001b[39m (k)\n",
      "\u001b[0;31mTypeError\u001b[0m: 'Add' object cannot be interpreted as an integer"
     ]
    }
   ],
   "source": [
    "buckets = Symbol('buckets', integer = True, positive= True)\n",
    "b = Symbol('b', integer = True, positive= True)\n",
    "dist0 = binomial(buckets - 1, b, n1) \n",
    "dist1 = binomial(buckets - 1, b+1, n1)"
   ]
  },
  {
   "cell_type": "code",
   "execution_count": 31,
   "metadata": {},
   "outputs": [
    {
     "data": {
      "text/plain": [
       "sympy.core.add.Add"
      ]
     },
     "execution_count": 31,
     "metadata": {},
     "output_type": "execute_result"
    }
   ],
   "source": [
    "type(b+1)"
   ]
  },
  {
   "cell_type": "code",
   "execution_count": null,
   "metadata": {},
   "outputs": [],
   "source": []
  },
  {
   "cell_type": "code",
   "execution_count": 21,
   "metadata": {},
   "outputs": [
    {
     "data": {
      "text/latex": [
       "$\\displaystyle \\sum_{b=0}^{buckets} \\int\\limits_{\\operatorname{optm}{\\left(b \\right)}}^{\\operatorname{optm}{\\left(b + 1 \\right)}} n_{1}^{b} \\left(1 - n_{1}\\right)^{- b + buckets} {\\binom{buckets}{b}}\\, dn_{1}$"
      ],
      "text/plain": [
       "Sum(Integral(n1**b*(1 - n1)**(-b + buckets)*binomial(buckets, b), (n1, optm(b), optm(b + 1))), (b, 0, buckets))"
      ]
     },
     "execution_count": 21,
     "metadata": {},
     "output_type": "execute_result"
    }
   ],
   "source": [
    "n1 = Symbol(\"n1\", domain=Interval(0, 1))\n",
    "buckets = Symbol('buckets', integer = True, positive= True)\n",
    "b = Symbol('b', integer = True, positive= True)\n",
    "d = Symbol('d', integer = True, positive= True)\n",
    "optm = Function('optm')\n",
    "optx = Function('optx')\n",
    "# f = Function('f')\n",
    "# Sum(ʃ(binomial(buckets, b, n1), (n1, optm(b), optm(b+1))), (b, 0, buckets))\n",
    "binom = Lambda((buckets, b, n1), binomial(buckets, b, n1).args[0][0])  # Example computation\n",
    "\n",
    "\n",
    "my_integral = Integral( binomial(buckets, b, n1).args[0][0], (n1, optm(b), optm(b+1)))\n",
    "Sum(my_integral, (b, 0, buckets))"
   ]
  },
  {
   "cell_type": "code",
   "execution_count": 19,
   "metadata": {},
   "outputs": [
    {
     "data": {
      "text/latex": [
       "$\\displaystyle n_{1}^{b} \\left(1 - n_{1}\\right)^{- b + buckets} {\\binom{buckets}{b}}$"
      ],
      "text/plain": [
       "n1**b*(1 - n1)**(-b + buckets)*binomial(buckets, b)"
      ]
     },
     "execution_count": 19,
     "metadata": {},
     "output_type": "execute_result"
    }
   ],
   "source": [
    "binomial(buckets, b, n1).args[0][0]"
   ]
  },
  {
   "cell_type": "code",
   "execution_count": 421,
   "metadata": {},
   "outputs": [
    {
     "data": {
      "text/latex": [
       "$\\displaystyle \\sum_{b=0}^{buckets} \\int\\limits_{\\operatorname{optm}{\\left(b \\right)}}^{\\operatorname{optm}{\\left(b + 1 \\right)}} n_{1}^{b} \\left(1 - n_{1}\\right)^{- b + buckets} {\\binom{buckets}{b}}\\, dn_{1}$"
      ],
      "text/plain": [
       "Sum(Integral(n1**b*(1 - n1)**(-b + buckets)*binomial(buckets, b), (n1, optm(b), optm(b + 1))), (b, 0, buckets))"
      ]
     },
     "execution_count": 421,
     "metadata": {},
     "output_type": "execute_result"
    }
   ],
   "source": [
    "\n"
   ]
  },
  {
   "cell_type": "code",
   "execution_count": 418,
   "metadata": {},
   "outputs": [
    {
     "data": {
      "text/latex": [
       "$\\displaystyle \\int\\limits_{\\operatorname{optm}{\\left(b \\right)}}^{\\operatorname{optm}{\\left(b + 1 \\right)}} \\begin{cases} n_{1}^{b} \\left(1 - n_{1}\\right)^{- b + buckets} {\\binom{buckets}{b}} & \\text{for}\\: b \\leq buckets \\\\0 & \\text{otherwise} \\end{cases}\\, dn_{1}$"
      ],
      "text/plain": [
       "Integral(Piecewise((n1**b*(1 - n1)**(-b + buckets)*binomial(buckets, b), b <= buckets), (0, True)), (n1, optm(b), optm(b + 1)))"
      ]
     },
     "execution_count": 418,
     "metadata": {},
     "output_type": "execute_result"
    }
   ],
   "source": []
  },
  {
   "cell_type": "code",
   "execution_count": null,
   "metadata": {},
   "outputs": [],
   "source": []
  },
  {
   "cell_type": "code",
   "execution_count": 385,
   "metadata": {},
   "outputs": [
    {
     "data": {
      "text/latex": [
       "$\\displaystyle \\begin{cases} 1 & \\text{for}\\: x > 0 \\\\0 & \\text{otherwise} \\end{cases}$"
      ],
      "text/plain": [
       "Piecewise((1, x > 0), (0, True))"
      ]
     },
     "execution_count": 385,
     "metadata": {},
     "output_type": "execute_result"
    }
   ],
   "source": [
    "from sympy import symbols, Piecewise, Eq, solve\n",
    "step_function = Piecewise((1, x > 0), (0, True))\n",
    "step_function"
   ]
  },
  {
   "cell_type": "code",
   "execution_count": 329,
   "metadata": {},
   "outputs": [
    {
     "data": {
      "text/latex": [
       "$\\displaystyle \\begin{cases} 0 & \\text{for}\\: c = -1 \\vee c = 0 \\vee c = 1 \\\\\\frac{2 {\\binom{c}{2}}}{c^{3} - c} & \\text{for}\\: c \\geq 2 \\wedge c < \\infty \\\\0 & \\text{otherwise} \\end{cases}$"
      ],
      "text/plain": [
       "Piecewise((0, Eq(c, -1) | Eq(c, 0) | Eq(c, 1)), (2*binomial(c, 2)/(c**3 - c), (c >= 2) & (c < oo)), (0, True))"
      ]
     },
     "execution_count": 329,
     "metadata": {},
     "output_type": "execute_result"
    }
   ],
   "source": [
    "ʃ(binomial(c, 2, n1), (n1,0,1))"
   ]
  },
  {
   "cell_type": "code",
   "execution_count": null,
   "metadata": {},
   "outputs": [],
   "source": []
  },
  {
   "cell_type": "code",
   "execution_count": null,
   "metadata": {},
   "outputs": [],
   "source": []
  },
  {
   "cell_type": "code",
   "execution_count": 288,
   "metadata": {},
   "outputs": [],
   "source": [
    "bu = Symbol('buckets')"
   ]
  },
  {
   "cell_type": "code",
   "execution_count": 289,
   "metadata": {},
   "outputs": [
    {
     "data": {
      "text/latex": [
       "$\\displaystyle \\frac{\\operatorname{optm}^{2}{\\left(0 \\right)}}{2} - \\operatorname{optm}{\\left(0 \\right)} - \\frac{\\operatorname{optm}^{2}{\\left(1 \\right)}}{2} - \\frac{\\operatorname{optx}^{2}{\\left(0 \\right)}}{2} + \\operatorname{optx}{\\left(0 \\right)} + \\frac{\\operatorname{optx}^{2}{\\left(1 \\right)}}{2}$"
      ],
      "text/plain": [
       "optm(0)**2/2 - optm(0) - optm(1)**2/2 - optx(0)**2/2 + optx(0) + optx(1)**2/2"
      ]
     },
     "execution_count": 289,
     "metadata": {},
     "output_type": "execute_result"
    }
   ],
   "source": [
    "P(2)"
   ]
  },
  {
   "cell_type": "code",
   "execution_count": 215,
   "metadata": {},
   "outputs": [
    {
     "data": {
      "text/latex": [
       "$\\displaystyle \\left( x \\mapsto x^{2} \\right)$"
      ],
      "text/plain": [
       "Lambda(x, x**2)"
      ]
     },
     "execution_count": 215,
     "metadata": {},
     "output_type": "execute_result"
    }
   ],
   "source": []
  },
  {
   "cell_type": "code",
   "execution_count": null,
   "metadata": {},
   "outputs": [],
   "source": []
  },
  {
   "cell_type": "code",
   "execution_count": null,
   "metadata": {},
   "outputs": [],
   "source": []
  },
  {
   "cell_type": "code",
   "execution_count": 30,
   "metadata": {},
   "outputs": [
    {
     "data": {
      "text/latex": [
       "$\\displaystyle \\frac{17}{27}$"
      ],
      "text/plain": [
       "17/27"
      ]
     },
     "execution_count": 30,
     "metadata": {},
     "output_type": "execute_result"
    }
   ],
   "source": [
    "P(3)"
   ]
  },
  {
   "cell_type": "code",
   "execution_count": 21,
   "metadata": {},
   "outputs": [
    {
     "data": {
      "text/plain": [
       "[(1 - n1)**2, n1*(2 - 2*n1), n1**2]"
      ]
     },
     "execution_count": 21,
     "metadata": {},
     "output_type": "execute_result"
    }
   ],
   "source": [
    "buckets = 3\n",
    "[binomial(buckets - 1, b) for b in range(buckets)]"
   ]
  },
  {
   "cell_type": "code",
   "execution_count": 31,
   "metadata": {},
   "outputs": [
    {
     "data": {
      "image/png": "[encoded data removed]",
      "text/plain": [
       "<Figure size 640x480 with 1 Axes>"
      ]
     },
     "metadata": {},
     "output_type": "display_data"
    },
    {
     "data": {
      "text/plain": [
       "<sympy.plotting.plot.Plot at 0x7f052ca65d10>"
      ]
     },
     "execution_count": 31,
     "metadata": {},
     "output_type": "execute_result"
    }
   ],
   "source": [
    "# plot(*[binomial(buckets - 1, b) for b in range(buckets)], (n1,0,1))\n",
    "plot(*p_distributions(buckets), (n1,0,1))"
   ]
  },
  {
   "cell_type": "code",
   "execution_count": null,
   "metadata": {},
   "outputs": [],
   "source": []
  },
  {
   "cell_type": "code",
   "execution_count": 134,
   "metadata": {},
   "outputs": [
    {
     "data": {
      "image/png": "[encoded data removed]",
      "text/plain": [
       "<Figure size 640x480 with 1 Axes>"
      ]
     },
     "metadata": {},
     "output_type": "display_data"
    },
    {
     "data": {
      "text/plain": [
       "<sympy.plotting.plot.Plot at 0x7fddc4a54a50>"
      ]
     },
     "execution_count": 134,
     "metadata": {},
     "output_type": "execute_result"
    }
   ],
   "source": [
    "n1 = Symbol(\"n1\", domain=Interval(0, 1))\n",
    "plot(*dist, (n1,0,1))"
   ]
  },
  {
   "cell_type": "code",
   "execution_count": null,
   "metadata": {},
   "outputs": [],
   "source": []
  },
  {
   "cell_type": "code",
   "execution_count": null,
   "metadata": {},
   "outputs": [],
   "source": []
  },
  {
   "cell_type": "code",
   "execution_count": null,
   "metadata": {},
   "outputs": [],
   "source": []
  },
  {
   "cell_type": "code",
   "execution_count": null,
   "metadata": {},
   "outputs": [],
   "source": [
    "# \n",
    "\n",
    "# [_][_][X][_][_][_]"
   ]
  }
 ],
 "metadata": {
  "kernelspec": {
   "display_name": ".venv",
   "language": "python",
   "name": "python3"
  },
  "language_info": {
   "codemirror_mode": {
    "name": "ipython",
    "version": 3
   },
   "file_extension": ".py",
   "mimetype": "text/x-python",
   "name": "python",
   "nbconvert_exporter": "python",
   "pygments_lexer": "ipython3",
   "version": "3.11.7"
  }
 },
 "nbformat": 4,
 "nbformat_minor": 2
}
