{
 "cells": [
  {
   "cell_type": "code",
   "execution_count": 4,
   "metadata": {},
   "outputs": [
    {
     "name": "stdout",
     "output_type": "stream",
     "text": [
      "/home/pablo/Documents/code/active\n"
     ]
    },
    {
     "name": "stderr",
     "output_type": "stream",
     "text": [
      "/home/pablo/Documents/code/active/sorting_algorithm/.venv/lib/python3.12/site-packages/IPython/core/magics/osm.py:417: UserWarning: This is now an optional IPython functionality, setting dhist requires you to install the `pickleshare` library.\n",
      "  self.shell.db['dhist'] = compress_dhist(dhist)[-100:]\n"
     ]
    }
   ],
   "source": [
    "cd .."
   ]
  },
  {
   "cell_type": "code",
   "execution_count": 5,
   "metadata": {},
   "outputs": [],
   "source": [
    "from onsort.my_sort import create_thresholds\n"
   ]
  },
  {
   "cell_type": "code",
   "execution_count": 6,
   "metadata": {},
   "outputs": [],
   "source": [
    "\n",
    "a = create_thresholds(10)"
   ]
  },
  {
   "cell_type": "code",
   "execution_count": 7,
   "metadata": {},
   "outputs": [
    {
     "data": {
      "text/plain": [
       "{0: [],\n",
       " 1: [],\n",
       " 2: [0.500000000000000],\n",
       " 3: [0.272727272727273, 0.727272727272727],\n",
       " 4: [0.187515543397165, 0.500000000000000, 0.812484456602835],\n",
       " 5: [0.141934756821769,\n",
       "  0.380976441609298,\n",
       "  0.619023558390703,\n",
       "  0.858065243178231],\n",
       " 6: [0.114166426694329,\n",
       "  0.306085688568683,\n",
       "  0.500000000000000,\n",
       "  0.693914311431316,\n",
       "  0.885833573305671],\n",
       " 7: [0.0954459389359411,\n",
       "  0.255775510977792,\n",
       "  0.417491984394903,\n",
       "  0.582508015605097,\n",
       "  0.744224489022207,\n",
       "  0.904554061064059],\n",
       " 8: [0.0819918702430920,\n",
       "  0.219590760039757,\n",
       "  0.358326096161032,\n",
       "  0.500000000000000,\n",
       "  0.641673903838968,\n",
       "  0.780409239960243,\n",
       "  0.918008129756908],\n",
       " 9: [0.0718575901790591,\n",
       "  0.192358586829175,\n",
       "  0.313749672012130,\n",
       "  0.437932002720174,\n",
       "  0.562067997279826,\n",
       "  0.686250327987870,\n",
       "  0.807641413170825,\n",
       "  0.928142409820941],\n",
       " 10: [0.0639510572517834,\n",
       "  0.171125765291798,\n",
       "  0.279015338934645,\n",
       "  0.389463144058984,\n",
       "  0.500000000000000,\n",
       "  0.610536855941016,\n",
       "  0.720984661065355,\n",
       "  0.828874234708202,\n",
       "  0.936048942748216]}"
      ]
     },
     "execution_count": 7,
     "metadata": {},
     "output_type": "execute_result"
    }
   ],
   "source": [
    "a"
   ]
  },
  {
   "cell_type": "code",
   "execution_count": null,
   "metadata": {},
   "outputs": [],
   "source": []
  }
 ],
 "metadata": {
  "kernelspec": {
   "display_name": ".venv",
   "language": "python",
   "name": "python3"
  },
  "language_info": {
   "codemirror_mode": {
    "name": "ipython",
    "version": 3
   },
   "file_extension": ".py",
   "mimetype": "text/x-python",
   "name": "python",
   "nbconvert_exporter": "python",
   "pygments_lexer": "ipython3",
   "version": "3.12.1"
  }
 },
 "nbformat": 4,
 "nbformat_minor": 2
}
