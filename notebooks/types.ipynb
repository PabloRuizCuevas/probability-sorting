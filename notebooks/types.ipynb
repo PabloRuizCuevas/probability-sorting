{
 "cells": [
  {
   "cell_type": "code",
   "execution_count": 51,
   "id": "39551209",
   "metadata": {},
   "outputs": [],
   "source": [
    "from __future__ import annotations\n",
    "from typing import overload, Any\n",
    "\n",
    "class Nat: ...\n",
    "\n",
    "class O(Nat):\n",
    "\n",
    "    def __repr__(self) -> str:\n",
    "        return 'O'\n",
    "\n",
    "class S[T](Nat):\n",
    "    def __init__(self, prev: T) -> None:\n",
    "        self.prev = prev\n",
    "\n",
    "    def __repr__(self) -> str:\n",
    "        return f'S({self.prev})'\n",
    "    "
   ]
  },
  {
   "cell_type": "code",
   "execution_count": 53,
   "id": "8ac16264",
   "metadata": {},
   "outputs": [],
   "source": [
    "# Examples of usage:\n",
    "zero = O()\n",
    "one = S(zero)\n",
    "two = S(one)"
   ]
  },
  {
   "cell_type": "code",
   "execution_count": 74,
   "id": "1a6168b0",
   "metadata": {},
   "outputs": [],
   "source": [
    "\n",
    "@overload\n",
    "def pred(n: O) -> O:...\n",
    "\n",
    "@overload\n",
    "def pred[T: S](n: S[T]) -> T: ...\n",
    "\n",
    "def pred(n: Nat) -> Nat:\n",
    "    return n.prev\n",
    "\n",
    "def add_one[T: Nat](a: T) -> S[T]: \n",
    "    return S(a)\n",
    "\n",
    "@overload\n",
    "def add(a: O, b: S) -> S:\n",
    "    ...\n",
    "\n",
    "@overload\n",
    "def add[G,T](a: G[O], b: T) -> G[T]:\n",
    "    ...\n",
    "\n",
    "def add(a: Nat, b: Nat) -> Nat:\n",
    "    ...\n"
   ]
  },
  {
   "cell_type": "code",
   "execution_count": 73,
   "id": "f38d2329",
   "metadata": {},
   "outputs": [],
   "source": [
    "b = pred(two)\n",
    "c = add_one(b)"
   ]
  },
  {
   "cell_type": "code",
   "execution_count": 68,
   "id": "e1472e4f",
   "metadata": {},
   "outputs": [
    {
     "data": {
      "text/plain": [
       "S(O)"
      ]
     },
     "execution_count": 68,
     "metadata": {},
     "output_type": "execute_result"
    }
   ],
   "source": [
    "test = pred(zero)\n",
    "test2 = add(b,c)"
   ]
  },
  {
   "cell_type": "code",
   "execution_count": null,
   "id": "272772b1",
   "metadata": {},
   "outputs": [],
   "source": []
  },
  {
   "cell_type": "code",
   "execution_count": null,
   "id": "db61efdf",
   "metadata": {},
   "outputs": [],
   "source": []
  },
  {
   "cell_type": "code",
   "execution_count": 19,
   "id": "d7a5590f",
   "metadata": {},
   "outputs": [],
   "source": [
    "def addg[G, P: (S, S)](a: G, b: P) -> S[P]:\n",
    "    # this works but is not 100% type compliant\n",
    "    if isinstance(a, O):\n",
    "        return b\n",
    "    elif isinstance(a, S):\n",
    "        # mypy no entiende de rucursion... y eso es un problema\n",
    "        return S(add(a.prev, b))\n",
    "    else:\n",
    "        raise TypeError\n",
    "        "
   ]
  },
  {
   "cell_type": "code",
   "execution_count": null,
   "id": "4bbb629f",
   "metadata": {},
   "outputs": [],
   "source": [
    "def replace[T](a: T[O]) -> T[]"
   ]
  },
  {
   "cell_type": "code",
   "execution_count": null,
   "id": "3d0782fb",
   "metadata": {},
   "outputs": [],
   "source": [
    "S[S[O]] + S[0] -> S[S[S[O]]] "
   ]
  },
  {
   "cell_type": "code",
   "execution_count": 5,
   "id": "8972a191",
   "metadata": {},
   "outputs": [],
   "source": []
  },
  {
   "cell_type": "code",
   "execution_count": 4,
   "id": "07e1c601",
   "metadata": {},
   "outputs": [
    {
     "data": {
      "text/plain": [
       "__main__.S"
      ]
     },
     "execution_count": 4,
     "metadata": {},
     "output_type": "execute_result"
    }
   ],
   "source": [
    "three = add(two, one)"
   ]
  },
  {
   "cell_type": "code",
   "execution_count": 34,
   "id": "5f5fdeee",
   "metadata": {},
   "outputs": [],
   "source": []
  },
  {
   "cell_type": "code",
   "execution_count": null,
   "id": "af66befd",
   "metadata": {},
   "outputs": [],
   "source": [
    "def ensure_same_type(a, b):\n",
    "    if not isinstance(a, type(b)):\n",
    "        raise TypeError(\"a and b are not of the same type\")\n",
    "\n",
    "# Example usage\n",
    "a = 5\n",
    "b = \"string\"\n",
    "ensure_same_type(a, b)"
   ]
  },
  {
   "cell_type": "code",
   "execution_count": 32,
   "id": "e92ea7e0",
   "metadata": {},
   "outputs": [
    {
     "ename": "TypeError",
     "evalue": "",
     "output_type": "error",
     "traceback": [
      "\u001b[0;31m---------------------------------------------------------------------------\u001b[0m",
      "\u001b[0;31mTypeError\u001b[0m                                 Traceback (most recent call last)",
      "Cell \u001b[0;32mIn[32], line 1\u001b[0m\n\u001b[0;32m----> 1\u001b[0m \u001b[43madd\u001b[49m\u001b[43m(\u001b[49m\u001b[43mzero\u001b[49m\u001b[43m,\u001b[49m\u001b[43m \u001b[49m\u001b[43mtwo\u001b[49m\u001b[43m)\u001b[49m\n",
      "Cell \u001b[0;32mIn[24], line 43\u001b[0m, in \u001b[0;36madd\u001b[0;34m(a, b)\u001b[0m\n\u001b[1;32m     41\u001b[0m     \u001b[38;5;28;01mreturn\u001b[39;00m S(add(a\u001b[38;5;241m.\u001b[39mprev, b))\n\u001b[1;32m     42\u001b[0m \u001b[38;5;28;01melse\u001b[39;00m:\n\u001b[0;32m---> 43\u001b[0m     \u001b[38;5;28;01mraise\u001b[39;00m \u001b[38;5;167;01mTypeError\u001b[39;00m\n",
      "\u001b[0;31mTypeError\u001b[0m: "
     ]
    }
   ],
   "source": [
    "a  = 1+\"hat\" + 3"
   ]
  },
  {
   "cell_type": "code",
   "execution_count": 30,
   "id": "68823f22",
   "metadata": {},
   "outputs": [
    {
     "ename": "TypeError",
     "evalue": "",
     "output_type": "error",
     "traceback": [
      "\u001b[0;31m---------------------------------------------------------------------------\u001b[0m",
      "\u001b[0;31mTypeError\u001b[0m                                 Traceback (most recent call last)",
      "Cell \u001b[0;32mIn[30], line 1\u001b[0m\n\u001b[0;32m----> 1\u001b[0m \u001b[43madd\u001b[49m\u001b[43m(\u001b[49m\u001b[43mone\u001b[49m\u001b[43m,\u001b[49m\u001b[43m \u001b[49m\u001b[43mtwo\u001b[49m\u001b[43m)\u001b[49m\n",
      "Cell \u001b[0;32mIn[24], line 43\u001b[0m, in \u001b[0;36madd\u001b[0;34m(a, b)\u001b[0m\n\u001b[1;32m     41\u001b[0m     \u001b[38;5;28;01mreturn\u001b[39;00m S(add(a\u001b[38;5;241m.\u001b[39mprev, b))\n\u001b[1;32m     42\u001b[0m \u001b[38;5;28;01melse\u001b[39;00m:\n\u001b[0;32m---> 43\u001b[0m     \u001b[38;5;28;01mraise\u001b[39;00m \u001b[38;5;167;01mTypeError\u001b[39;00m\n",
      "\u001b[0;31mTypeError\u001b[0m: "
     ]
    }
   ],
   "source": []
  },
  {
   "cell_type": "code",
   "execution_count": null,
   "id": "7238f544",
   "metadata": {},
   "outputs": [],
   "source": [
    "new = add(zero, zero)\n",
    "and_ = lambda a, b: S(O()) if a and b else O()"
   ]
  },
  {
   "cell_type": "code",
   "execution_count": null,
   "id": "87b91ba7",
   "metadata": {},
   "outputs": [],
   "source": []
  },
  {
   "cell_type": "code",
   "execution_count": 8,
   "id": "65d185c4",
   "metadata": {},
   "outputs": [
    {
     "ename": "TypeError",
     "evalue": "unsupported operand type(s) for +: 'S' and 'S'",
     "output_type": "error",
     "traceback": [
      "\u001b[0;31m---------------------------------------------------------------------------\u001b[0m",
      "\u001b[0;31mTypeError\u001b[0m                                 Traceback (most recent call last)",
      "Cell \u001b[0;32mIn[8], line 1\u001b[0m\n\u001b[0;32m----> 1\u001b[0m \u001b[43mS\u001b[49m\u001b[43m(\u001b[49m\u001b[43mS\u001b[49m\u001b[43m(\u001b[49m\u001b[43mO\u001b[49m\u001b[43m)\u001b[49m\u001b[43m)\u001b[49m\u001b[43m \u001b[49m\u001b[38;5;241;43m+\u001b[39;49m\u001b[43m  \u001b[49m\u001b[43mS\u001b[49m\u001b[43m(\u001b[49m\u001b[43mS\u001b[49m\u001b[43m(\u001b[49m\u001b[43mO\u001b[49m\u001b[43m)\u001b[49m\u001b[43m)\u001b[49m \n",
      "\u001b[0;31mTypeError\u001b[0m: unsupported operand type(s) for +: 'S' and 'S'"
     ]
    }
   ],
   "source": [
    "S(S(O)) +  S(S(O)) "
   ]
  },
  {
   "cell_type": "code",
   "execution_count": null,
   "id": "38f6a120",
   "metadata": {},
   "outputs": [],
   "source": []
  }
 ],
 "metadata": {
  "kernelspec": {
   "display_name": "Python 3 (ipykernel)",
   "language": "python",
   "name": "python3"
  },
  "language_info": {
   "codemirror_mode": {
    "name": "ipython",
    "version": 3
   },
   "file_extension": ".py",
   "mimetype": "text/x-python",
   "name": "python",
   "nbconvert_exporter": "python",
   "pygments_lexer": "ipython3",
   "version": "3.12.1"
  }
 },
 "nbformat": 4,
 "nbformat_minor": 5
}
