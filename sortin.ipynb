{
 "cells": [
  {
   "cell_type": "code",
   "execution_count": 1,
   "metadata": {},
   "outputs": [],
   "source": []
  },
  {
   "cell_type": "code",
   "execution_count": 280,
   "metadata": {},
   "outputs": [],
   "source": [
    "import numpy as np\n",
    "import sympy as sp\n",
    "import scipy as sc\n",
    "from scipy.special import comb\n",
    "\n",
    "from sympy.stats import Binomial, density\n",
    "from sympy import S, Symbol, integrate, simplify, solve, Interval\n"
   ]
  },
  {
   "cell_type": "code",
   "execution_count": 313,
   "metadata": {},
   "outputs": [],
   "source": [
    "P = {}\n",
    "n1 = Symbol(\"n1\", domain=Interval(0, 1))"
   ]
  },
  {
   "cell_type": "code",
   "execution_count": 314,
   "metadata": {},
   "outputs": [],
   "source": [
    "#P1\n",
    "P[1] = 1"
   ]
  },
  {
   "cell_type": "code",
   "execution_count": 332,
   "metadata": {},
   "outputs": [
    {
     "data": {
      "text/latex": [
       "$\\displaystyle 0.75$"
      ],
      "text/plain": [
       "0.750000000000000"
      ]
     },
     "execution_count": 332,
     "metadata": {},
     "output_type": "execute_result"
    }
   ],
   "source": [
    "# P2\n",
    "# {n}{0}\n",
    "# {0}{n}\n",
    "n =2 \n",
    "I, B = n*[None], n*[None]\n",
    "\n",
    "B[0] = comb(1,0) * P[1] * (1-n1)\n",
    "B[1] = comb(1,1) * P[1] * n1\n",
    "\n",
    "I[0] =  solve(B[0] >  B[1]).as_set().intersect(Interval(0, 1))\n",
    "P[2] = 2* integrate(B[0] , (n1,I[0])) \n",
    "P[2] # 3/4\n"
   ]
  },
  {
   "cell_type": "code",
   "execution_count": 329,
   "metadata": {},
   "outputs": [
    {
     "data": {
      "text/plain": [
       "[1.0 - 1.0*n1, 1.0*n1]"
      ]
     },
     "execution_count": 329,
     "metadata": {},
     "output_type": "execute_result"
    }
   ],
   "source": [
    "I"
   ]
  },
  {
   "cell_type": "code",
   "execution_count": 323,
   "metadata": {},
   "outputs": [
    {
     "data": {
      "text/latex": [
       "$\\displaystyle \\left[0, 0.5\\right)$"
      ],
      "text/plain": [
       "Interval.Ropen(0, 0.500000000000000)"
      ]
     },
     "execution_count": 323,
     "metadata": {},
     "output_type": "execute_result"
    }
   ],
   "source": [
    "interval"
   ]
  },
  {
   "cell_type": "code",
   "execution_count": 419,
   "metadata": {},
   "outputs": [
    {
     "data": {
      "text/latex": [
       "$\\displaystyle 0.519283746556474$"
      ],
      "text/plain": [
       "0.519283746556474"
      ]
     },
     "execution_count": 419,
     "metadata": {},
     "output_type": "execute_result"
    }
   ],
   "source": [
    "# P3\n",
    "# {1}{0}{0}\n",
    "# {0}{1}{0}\n",
    "# {0}{0}{1}\n",
    "\n",
    "P3L = comb(2,0) * P[2] * (1- n1)**2\n",
    "P3C = comb(2,1) * P[1] * (1- n1) * n1\n",
    "P3R = comb(2,2) * P[2] * n1**2\n",
    "\n",
    "interval_opt_1 = solve(P3L - P3C > 0, n1).as_set().intersect(Interval(0, 1))\n",
    "interval_opt_2 = ((P3C > P3R) & (P3C > P3L)).as_set().intersect(Interval(0, 1))\n",
    "# interval_opt_3 = solve(P3R - P3C > 0, n1).as_set().intersect(Interval(0, 1))\n",
    "\n",
    "# interval_center \n",
    "# P3 = integrate(P3L, (n1,interval_opt_1)) + integrate(P3C, (n1,interval_opt_2)) + integrate(P3C, (n1,interval_opt_3)) \n",
    "P[3] = 2*integrate(P3L, (n1,interval_opt_1)) + integrate(P3C, (n1,interval_opt_2))\n",
    "P[3]\n"
   ]
  },
  {
   "cell_type": "code",
   "execution_count": 412,
   "metadata": {},
   "outputs": [
    {
     "data": {
      "text/latex": [
       "$\\displaystyle \\left(0.272727272727273, 0.727272727272727\\right)$"
      ],
      "text/plain": [
       "Interval.open(0.272727272727273, 0.727272727272727)"
      ]
     },
     "execution_count": 412,
     "metadata": {},
     "output_type": "execute_result"
    }
   ],
   "source": [
    "interval_opt_2"
   ]
  },
  {
   "cell_type": "code",
   "execution_count": 408,
   "metadata": {},
   "outputs": [
    {
     "data": {
      "text/latex": [
       "$\\displaystyle 0.153831705484598$"
      ],
      "text/plain": [
       "0.153831705484598"
      ]
     },
     "execution_count": 408,
     "metadata": {},
     "output_type": "execute_result"
    }
   ],
   "source": [
    "integrate(P3L, (n1,interval_opt_1))"
   ]
  },
  {
   "cell_type": "code",
   "execution_count": 411,
   "metadata": {},
   "outputs": [
    {
     "data": {
      "text/latex": [
       "$\\displaystyle 0.211620335587278$"
      ],
      "text/plain": [
       "0.211620335587278"
      ]
     },
     "execution_count": 411,
     "metadata": {},
     "output_type": "execute_result"
    }
   ],
   "source": [
    "integrate(P3C, (n1,interval_opt_2))\n"
   ]
  },
  {
   "cell_type": "code",
   "execution_count": 368,
   "metadata": {},
   "outputs": [
    {
     "data": {
      "text/latex": [
       "$\\displaystyle 0.75 \\left(1 - n_{1}\\right)^{2}$"
      ],
      "text/plain": [
       "0.75*(1 - n1)**2"
      ]
     },
     "execution_count": 368,
     "metadata": {},
     "output_type": "execute_result"
    }
   ],
   "source": [
    "P3L"
   ]
  },
  {
   "cell_type": "code",
   "execution_count": 432,
   "metadata": {},
   "outputs": [
    {
     "ename": "IndexError",
     "evalue": "list index out of range",
     "output_type": "error",
     "traceback": [
      "\u001b[0;31m---------------------------------------------------------------------------\u001b[0m",
      "\u001b[0;31mIndexError\u001b[0m                                Traceback (most recent call last)",
      "\u001b[1;32m/home/pablo/Documents/code/jupyter/sortin.ipynb Cell 13\u001b[0m line \u001b[0;36m1\n\u001b[1;32m     <a href='vscode-notebook-cell:/home/pablo/Documents/code/jupyter/sortin.ipynb#X53sZmlsZQ%3D%3D?line=9'>10</a>\u001b[0m     B[i] \u001b[39m=\u001b[39m comb(\u001b[39m2\u001b[39m,i) \u001b[39m*\u001b[39m P[\u001b[39mabs\u001b[39m(\u001b[39m1\u001b[39m\u001b[39m-\u001b[39mi)\u001b[39m+\u001b[39m\u001b[39m1\u001b[39m] \u001b[39m*\u001b[39m (\u001b[39m1\u001b[39m\u001b[39m-\u001b[39m n1)\u001b[39m*\u001b[39m\u001b[39m*\u001b[39m(\u001b[39m2\u001b[39m\u001b[39m-\u001b[39mi) \u001b[39m*\u001b[39m n1\u001b[39m*\u001b[39m\u001b[39m*\u001b[39m(i)\n\u001b[1;32m     <a href='vscode-notebook-cell:/home/pablo/Documents/code/jupyter/sortin.ipynb#X53sZmlsZQ%3D%3D?line=12'>13</a>\u001b[0m \u001b[39mfor\u001b[39;00m i \u001b[39min\u001b[39;00m \u001b[39mrange\u001b[39m(\u001b[39m1\u001b[39m, n):\n\u001b[1;32m     <a href='vscode-notebook-cell:/home/pablo/Documents/code/jupyter/sortin.ipynb#X53sZmlsZQ%3D%3D?line=13'>14</a>\u001b[0m     \u001b[39m# not well done as need to accumulate intevals not substract prev\u001b[39;00m\n\u001b[0;32m---> <a href='vscode-notebook-cell:/home/pablo/Documents/code/jupyter/sortin.ipynb#X53sZmlsZQ%3D%3D?line=14'>15</a>\u001b[0m     I[i] \u001b[39m=\u001b[39m solve(B[i] \u001b[39m>\u001b[39m B[i\u001b[39m+\u001b[39;49m\u001b[39m1\u001b[39;49m], n1)\u001b[39m.\u001b[39mas_set()\u001b[39m.\u001b[39mintersect(Interval(\u001b[39m0\u001b[39m, \u001b[39m1\u001b[39m))\u001b[39m.\u001b[39mend\n\u001b[1;32m     <a href='vscode-notebook-cell:/home/pablo/Documents/code/jupyter/sortin.ipynb#X53sZmlsZQ%3D%3D?line=16'>17</a>\u001b[0m \u001b[39mprint\u001b[39m(I)\n\u001b[1;32m     <a href='vscode-notebook-cell:/home/pablo/Documents/code/jupyter/sortin.ipynb#X53sZmlsZQ%3D%3D?line=17'>18</a>\u001b[0m P[\u001b[39m3\u001b[39m] \u001b[39m=\u001b[39m \u001b[39msum\u001b[39m([integrate(B[i], (n1, Interval(I[i\u001b[39m-\u001b[39m\u001b[39m1\u001b[39m],I[i]))) \u001b[39mfor\u001b[39;00m i \u001b[39min\u001b[39;00m \u001b[39mrange\u001b[39m(n)])\n",
      "\u001b[0;31mIndexError\u001b[0m: list index out of range"
     ]
    }
   ],
   "source": [
    "# P3\n",
    "# {1}{0}{0}\n",
    "# {0}{1}{0}\n",
    "# {0}{0}{1}\n",
    "n = 3\n",
    "I, B = [0] + (n-1)*[None] + [1], n*[None]\n",
    "\n",
    "n1 = Symbol(\"n1\", domain=Interval(0, 1))\n",
    "for i in range(n):\n",
    "    B[i] = comb(2,i) * P[abs(1-i)+1] * (1- n1)**(2-i) * n1**(i)\n",
    "\n",
    "\n",
    "for i in range(1, n):\n",
    "    # not well done as need to accumulate intevals not substract prev\n",
    "    I[i] = solve(B[i] > B[i+1], n1).as_set().intersect(Interval(0, 1)).end\n",
    "\n",
    "print(I)\n",
    "P[3] = sum([integrate(B[i], (n1, Interval(I[i-1],I[i]))) for i in range(n)])"
   ]
  },
  {
   "cell_type": "code",
   "execution_count": 429,
   "metadata": {},
   "outputs": [
    {
     "data": {
      "text/plain": [
       "[0.272727272727273, 0.727272727272727, 1]"
      ]
     },
     "execution_count": 429,
     "metadata": {},
     "output_type": "execute_result"
    }
   ],
   "source": [
    "I"
   ]
  },
  {
   "cell_type": "code",
   "execution_count": 418,
   "metadata": {},
   "outputs": [
    {
     "data": {
      "text/latex": [
       "$\\displaystyle 0.519283746556474$"
      ],
      "text/plain": [
       "0.519283746556474"
      ]
     },
     "execution_count": 418,
     "metadata": {},
     "output_type": "execute_result"
    }
   ],
   "source": [
    "P[3]"
   ]
  },
  {
   "cell_type": "code",
   "execution_count": 420,
   "metadata": {},
   "outputs": [
    {
     "data": {
      "text/latex": [
       "$\\displaystyle \\left(0, 0.727272727272727\\right)$"
      ],
      "text/plain": [
       "Interval.open(0, 0.727272727272727)"
      ]
     },
     "execution_count": 420,
     "metadata": {},
     "output_type": "execute_result"
    }
   ],
   "source": [
    "solve(B[i] > B[i+1], n1).as_set().intersect(Interval(0, 1))\n"
   ]
  },
  {
   "cell_type": "code",
   "execution_count": 410,
   "metadata": {},
   "outputs": [
    {
     "data": {
      "text/latex": [
       "$\\displaystyle 0.272476834460306$"
      ],
      "text/plain": [
       "0.272476834460306"
      ]
     },
     "execution_count": 410,
     "metadata": {},
     "output_type": "execute_result"
    }
   ],
   "source": [
    "integrate(B[1], (n1,I[1]))"
   ]
  },
  {
   "cell_type": "code",
   "execution_count": 414,
   "metadata": {},
   "outputs": [
    {
     "data": {
      "text/latex": [
       "$\\displaystyle \\left[0, 0.272727272727273\\right)$"
      ],
      "text/plain": [
       "Interval.Ropen(0, 0.272727272727273)"
      ]
     },
     "execution_count": 414,
     "metadata": {},
     "output_type": "execute_result"
    }
   ],
   "source": [
    "I[0]\n"
   ]
  },
  {
   "cell_type": "code",
   "execution_count": 416,
   "metadata": {},
   "outputs": [
    {
     "data": {
      "text/latex": [
       "$\\displaystyle \\left[0.272727272727273, 0.727272727272727\\right)$"
      ],
      "text/plain": [
       "Interval.Ropen(0.272727272727273, 0.727272727272727)"
      ]
     },
     "execution_count": 416,
     "metadata": {},
     "output_type": "execute_result"
    }
   ],
   "source": [
    "I[1]-I[0]"
   ]
  },
  {
   "cell_type": "code",
   "execution_count": 209,
   "metadata": {},
   "outputs": [],
   "source": []
  },
  {
   "cell_type": "code",
   "execution_count": 210,
   "metadata": {},
   "outputs": [
    {
     "data": {
      "text/latex": [
       "$\\displaystyle 0.579427083333333$"
      ],
      "text/plain": [
       "0.579427083333333"
      ]
     },
     "execution_count": 210,
     "metadata": {},
     "output_type": "execute_result"
    }
   ],
   "source": [
    "P3"
   ]
  },
  {
   "cell_type": "code",
   "execution_count": 288,
   "metadata": {},
   "outputs": [
    {
     "data": {
      "text/latex": [
       "$\\displaystyle \\left[0, 0.394786600506051\\right)$"
      ],
      "text/plain": [
       "Interval.Ropen(0, 0.394786600506051)"
      ]
     },
     "execution_count": 288,
     "metadata": {},
     "output_type": "execute_result"
    }
   ],
   "source": [
    "# P4\n",
    "# {1}{0}{0}{0}\n",
    "# {0}{1}{0}{0}\n",
    "# {0}{0}{1}{0}\n",
    "# {0}{0}{0}{1}\n",
    "\n",
    "\n",
    "P5L =  comb(3,0) * P3 * (1- n1)\n",
    "P5LC = comb(3,1) * P2 * n1**2\n",
    "P5RC = comb(3,2) * P2 * (1- n1)**2 \n",
    "P5R = comb(3,3) * P3 * n1\n",
    "\n",
    "\n",
    "solve(P5L > P5LC).as_set().intersect(Interval(0, 1))\n",
    "solve(P5L > P5LC).as_set().intersect(Interval(0, 1))"
   ]
  },
  {
   "cell_type": "code",
   "execution_count": 253,
   "metadata": {},
   "outputs": [
    {
     "data": {
      "text/plain": [
       "0.75"
      ]
     },
     "execution_count": 253,
     "metadata": {},
     "output_type": "execute_result"
    }
   ],
   "source": []
  },
  {
   "cell_type": "code",
   "execution_count": 249,
   "metadata": {},
   "outputs": [
    {
     "name": "stdout",
     "output_type": "stream",
     "text": [
      "1.0 1.0\n",
      "1.0 2.0 1.0\n",
      "1.0 3.0 3.0 1.0\n",
      "1.0 4.0 6.0 4.0\n"
     ]
    }
   ],
   "source": [
    "print(comb(1,0), comb(1,1))\n",
    "print(comb(2,0), comb(2,1), comb(2,2))\n",
    "print(comb(3,0), comb(3,1), comb(3,2), comb(3,3))\n",
    "print(comb(4,0), comb(4,1), comb(4,2), comb(4,3))"
   ]
  },
  {
   "cell_type": "code",
   "execution_count": null,
   "metadata": {},
   "outputs": [],
   "source": [
    "# 1  sc.special.comb(\n",
    "# 1 1\n",
    "# 1 2 1\n",
    "# 1 3 3 1\n",
    "# 1 4 6 4 1"
   ]
  },
  {
   "cell_type": "code",
   "execution_count": 230,
   "metadata": {},
   "outputs": [
    {
     "data": {
      "text/plain": [
       "3.0"
      ]
     },
     "execution_count": 230,
     "metadata": {},
     "output_type": "execute_result"
    }
   ],
   "source": []
  }
 ],
 "metadata": {
  "kernelspec": {
   "display_name": ".venv",
   "language": "python",
   "name": "python3"
  },
  "language_info": {
   "codemirror_mode": {
    "name": "ipython",
    "version": 3
   },
   "file_extension": ".py",
   "mimetype": "text/x-python",
   "name": "python",
   "nbconvert_exporter": "python",
   "pygments_lexer": "ipython3",
   "version": "3.11.2"
  }
 },
 "nbformat": 4,
 "nbformat_minor": 2
}
